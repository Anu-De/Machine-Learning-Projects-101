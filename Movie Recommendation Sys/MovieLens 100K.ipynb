{
 "cells": [
  {
   "cell_type": "code",
   "execution_count": 1,
   "id": "b014b670-7b5e-4cf9-b49c-dbba68ccf552",
   "metadata": {
    "tags": []
   },
   "outputs": [],
   "source": [
    "from surprise import Dataset, Reader\n",
    "from surprise.model_selection import train_test_split"
   ]
  },
  {
   "cell_type": "code",
   "execution_count": 2,
   "id": "59e93d5a-553d-494a-8624-040a3ad639a6",
   "metadata": {
    "tags": []
   },
   "outputs": [],
   "source": [
    "\n",
    "# Using built-in MovieLens 100k dataset\n",
    "data = Dataset.load_builtin('ml-100k')"
   ]
  },
  {
   "cell_type": "code",
   "execution_count": 3,
   "id": "67506bac-1fe4-4197-8703-eb543bd39f98",
   "metadata": {
    "tags": []
   },
   "outputs": [],
   "source": [
    "import pandas as pd\n",
    "\n",
    "# Movie metadata (movie ID, title, etc.)\n",
    "item_df = pd.read_csv(\n",
    "    'https://files.grouplens.org/datasets/movielens/ml-100k/u.item',\n",
    "    sep='|',\n",
    "    encoding='latin-1',\n",
    "    header=None,\n",
    "    names=[\"movie_id\", \"title\", \"release_date\", \"video_release_date\", \"IMDb_URL\"] + [f\"genre_{i}\" for i in range(19)]\n",
    ")\n",
    "\n",
    "item_df = item_df[['movie_id', 'title']]\n",
    "item_df['movie_id'] = item_df['movie_id'].astype(str)  # Match Surprise IDs"
   ]
  },
  {
   "cell_type": "code",
   "execution_count": 4,
   "id": "61262f72-6907-40e5-b2c1-9f7f769a30fb",
   "metadata": {
    "tags": []
   },
   "outputs": [],
   "source": [
    "trainset, testset = train_test_split(data, test_size=0.2)"
   ]
  },
  {
   "cell_type": "code",
   "execution_count": 5,
   "id": "52c7054f-9766-4b1d-a157-decb8ffcbfd3",
   "metadata": {
    "tags": []
   },
   "outputs": [],
   "source": [
    "from surprise import SVD\n",
    "from surprise import accuracy\n",
    "\n",
    "model = SVD()\n",
    "model.fit(trainset)\n",
    "predictions = model.test(testset)"
   ]
  },
  {
   "cell_type": "code",
   "execution_count": 6,
   "id": "8f81e26a-c4a1-4fab-89cd-38f053bce32a",
   "metadata": {
    "tags": []
   },
   "outputs": [
    {
     "name": "stdout",
     "output_type": "stream",
     "text": [
      "RMSE: 0.9439\n"
     ]
    }
   ],
   "source": [
    "# Root Mean Squared Error\n",
    "rmse = accuracy.rmse(predictions)"
   ]
  },
  {
   "cell_type": "code",
   "execution_count": 7,
   "id": "216dd75b-c235-44a3-bad3-9f5a8c257f60",
   "metadata": {
    "tags": []
   },
   "outputs": [
    {
     "name": "stdout",
     "output_type": "stream",
     "text": [
      "\n",
      "User 901 - Recommended items: ['22', '95', '210', '520', '144']\n",
      "\n",
      "User 373 - Recommended items: ['64', '318', '170', '114', '494']\n",
      "\n",
      "User 566 - Recommended items: ['127', '483', '100', '136', '467']\n",
      "\n",
      "User 509 - Recommended items: ['50', '705', '754', '271', '326']\n",
      "\n",
      "User 886 - Recommended items: ['496', '181', '173', '89', '69']\n"
     ]
    }
   ],
   "source": [
    "from collections import defaultdict\n",
    "\n",
    "# Function to get top-N recommendations for each user\n",
    "def get_top_n(predictions, n=5):\n",
    "    top_n = defaultdict(list)\n",
    "    for uid, iid, true_r, est, _ in predictions:\n",
    "        top_n[uid].append((iid, est))\n",
    "\n",
    "    # Sort the predictions for each user and get the top n\n",
    "    for uid, user_ratings in top_n.items():\n",
    "        top_n[uid] = sorted(user_ratings, key=lambda x: x[1], reverse=True)[:n]\n",
    "    return top_n\n",
    "\n",
    "top_n = get_top_n(predictions, n=5)\n",
    "\n",
    "# Display recommendations for first 5 users\n",
    "for uid, user_ratings in list(top_n.items())[:5]:\n",
    "    print(f\"\\nUser {uid} - Recommended items: {[iid for iid, _ in user_ratings]}\")"
   ]
  },
  {
   "cell_type": "code",
   "execution_count": 8,
   "id": "51e20ee6-8685-4637-8661-7495c275c656",
   "metadata": {
    "tags": []
   },
   "outputs": [
    {
     "name": "stdout",
     "output_type": "stream",
     "text": [
      "\n",
      "User 901 - Recommended Movies:\n",
      "  Braveheart (1995) (predicted rating: 4.89)\n",
      "  Aladdin (1992) (predicted rating: 4.57)\n",
      "  Indiana Jones and the Last Crusade (1989) (predicted rating: 4.54)\n",
      "  Great Escape, The (1963) (predicted rating: 4.49)\n",
      "  Die Hard (1988) (predicted rating: 4.47)\n",
      "\n",
      "User 373 - Recommended Movies:\n",
      "  Shawshank Redemption, The (1994) (predicted rating: 4.72)\n",
      "  Schindler's List (1993) (predicted rating: 4.59)\n",
      "  Cinema Paradiso (1988) (predicted rating: 4.44)\n",
      "  Wallace & Gromit: The Best of Aardman Animation (1996) (predicted rating: 4.42)\n",
      "  His Girl Friday (1940) (predicted rating: 4.35)\n",
      "\n",
      "User 566 - Recommended Movies:\n",
      "  Godfather, The (1972) (predicted rating: 4.24)\n",
      "  Casablanca (1942) (predicted rating: 4.07)\n",
      "  Fargo (1996) (predicted rating: 4.06)\n",
      "  Mr. Smith Goes to Washington (1939) (predicted rating: 3.91)\n",
      "  Bronx Tale, A (1993) (predicted rating: 3.86)\n",
      "\n",
      "User 509 - Recommended Movies:\n",
      "  Star Wars (1977) (predicted rating: 3.61)\n",
      "  Singin' in the Rain (1952) (predicted rating: 3.21)\n",
      "  Red Corner (1997) (predicted rating: 2.78)\n",
      "  Starship Troopers (1997) (predicted rating: 2.67)\n",
      "  G.I. Jane (1997) (predicted rating: 2.57)\n",
      "\n",
      "User 886 - Recommended Movies:\n",
      "  It's a Wonderful Life (1946) (predicted rating: 4.44)\n",
      "  Return of the Jedi (1983) (predicted rating: 4.09)\n",
      "  Princess Bride, The (1987) (predicted rating: 4.04)\n",
      "  Blade Runner (1982) (predicted rating: 3.95)\n",
      "  Forrest Gump (1994) (predicted rating: 3.93)\n"
     ]
    }
   ],
   "source": [
    "# Show titles instead of item IDs\n",
    "for uid, user_ratings in list(top_n.items())[:5]:\n",
    "    print(f\"\\nUser {uid} - Recommended Movies:\")\n",
    "    for iid, rating in user_ratings:\n",
    "        movie_title = item_df[item_df['movie_id'] == iid]['title'].values[0]\n",
    "        print(f\"  {movie_title} (predicted rating: {rating:.2f})\")\n"
   ]
  },
  {
   "cell_type": "code",
   "execution_count": 9,
   "id": "033cb8df-866f-4899-a811-74f66564170c",
   "metadata": {
    "tags": []
   },
   "outputs": [
    {
     "data": {
      "image/png": "[encoded data removed]",
      "text/plain": [
       "<Figure size 600x400 with 1 Axes>"
      ]
     },
     "metadata": {},
     "output_type": "display_data"
    }
   ],
   "source": [
    "import matplotlib.pyplot as plt\n",
    "\n",
    "# Load full rating data\n",
    "rating_df = pd.read_csv(\n",
    "    'https://files.grouplens.org/datasets/movielens/ml-100k/u.data',\n",
    "    sep='\\t',\n",
    "    names=['user_id', 'item_id', 'rating', 'timestamp'],\n",
    "    engine='python'\n",
    ")\n",
    "\n",
    "plt.figure(figsize=(6,4))\n",
    "rating_df['rating'].value_counts().sort_index().plot(kind='bar', color='skyblue')\n",
    "plt.title(\"Distribution of Ratings\")\n",
    "plt.xlabel(\"Rating\")\n",
    "plt.ylabel(\"Count\")\n",
    "plt.grid(True, axis='y')\n",
    "plt.show()"
   ]
  },
  {
   "cell_type": "code",
   "execution_count": 10,
   "id": "86946230-5a00-4792-82e0-a1d4a219a32c",
   "metadata": {
    "tags": []
   },
   "outputs": [
    {
     "name": "stdout",
     "output_type": "stream",
     "text": [
      "Computing the cosine similarity matrix...\n",
      "Done computing similarity matrix.\n",
      "RMSE: 1.0387\n"
     ]
    },
    {
     "data": {
      "text/plain": [
       "1.0387313051268483"
      ]
     },
     "execution_count": 10,
     "metadata": {},
     "output_type": "execute_result"
    }
   ],
   "source": [
    "from surprise import KNNBasic\n",
    "\n",
    "# Item-based CF\n",
    "sim_options = {\n",
    "    'name': 'cosine',\n",
    "    'user_based': False  # Set to True for user-user\n",
    "}\n",
    "\n",
    "knn_model = KNNBasic(sim_options=sim_options)\n",
    "knn_model.fit(trainset)\n",
    "knn_predictions = knn_model.test(testset)\n",
    "accuracy.rmse(knn_predictions)"
   ]
  },
  {
   "cell_type": "code",
   "execution_count": 13,
   "id": "5d2184a5-cc30-4dbb-bde0-a1b23ccc6b7b",
   "metadata": {
    "tags": []
   },
   "outputs": [
    {
     "name": "stdout",
     "output_type": "stream",
     "text": [
      "\n",
      "User 901 - Recommended items: ['181', '22', '144', '161', '402']\n",
      "\n",
      "User 373 - Recommended items: ['64', '393', '318', '588', '70']\n",
      "\n",
      "User 566 - Recommended items: ['100', '127', '273', '136', '170']\n",
      "\n",
      "User 509 - Recommended items: ['271', '705', '50', '343', '266']\n",
      "\n",
      "User 886 - Recommended items: ['173', '55', '69', '89', '181']\n"
     ]
    }
   ],
   "source": [
    "from collections import defaultdict\n",
    "\n",
    "# Function to get top-N recommendations for each user\n",
    "def get_top_n(knn_predictions, n=5):\n",
    "    top_n = defaultdict(list)\n",
    "    for uid, iid, true_r, est, _ in knn_predictions:\n",
    "        top_n[uid].append((iid, est))\n",
    "\n",
    "    # Sort the predictions for each user and get the top n\n",
    "    for uid, user_ratings in top_n.items():\n",
    "        top_n[uid] = sorted(user_ratings, key=lambda x: x[1], reverse=True)[:n]\n",
    "    return top_n\n",
    "\n",
    "top_n = get_top_n(knn_predictions, n=5)\n",
    "\n",
    "# Display recommendations for first 5 users\n",
    "for uid, user_ratings in list(top_n.items())[:5]:\n",
    "    print(f\"\\nUser {uid} - Recommended items: {[iid for iid, _ in user_ratings]}\")"
   ]
  },
  {
   "cell_type": "code",
   "execution_count": 14,
   "id": "f24724ef-e595-4346-a69a-0b1439ca6df3",
   "metadata": {
    "tags": []
   },
   "outputs": [
    {
     "name": "stdout",
     "output_type": "stream",
     "text": [
      "\n",
      "User 901 - Recommended Movies:\n",
      "  Return of the Jedi (1983) (predicted rating: 4.43)\n",
      "  Braveheart (1995) (predicted rating: 4.40)\n",
      "  Die Hard (1988) (predicted rating: 4.38)\n",
      "  Top Gun (1986) (predicted rating: 4.38)\n",
      "  Ghost (1990) (predicted rating: 4.38)\n",
      "\n",
      "User 373 - Recommended Movies:\n",
      "  Shawshank Redemption, The (1994) (predicted rating: 4.05)\n",
      "  Mrs. Doubtfire (1993) (predicted rating: 4.05)\n",
      "  Schindler's List (1993) (predicted rating: 3.99)\n",
      "  Beauty and the Beast (1991) (predicted rating: 3.95)\n",
      "  Four Weddings and a Funeral (1994) (predicted rating: 3.92)\n",
      "\n",
      "User 566 - Recommended Movies:\n",
      "  Fargo (1996) (predicted rating: 4.18)\n",
      "  Godfather, The (1972) (predicted rating: 4.05)\n",
      "  Heat (1995) (predicted rating: 3.98)\n",
      "  Mr. Smith Goes to Washington (1939) (predicted rating: 3.85)\n",
      "  Cinema Paradiso (1988) (predicted rating: 3.83)\n",
      "\n",
      "User 509 - Recommended Movies:\n",
      "  Starship Troopers (1997) (predicted rating: 2.45)\n",
      "  Singin' in the Rain (1952) (predicted rating: 2.45)\n",
      "  Star Wars (1977) (predicted rating: 2.45)\n",
      "  Alien: Resurrection (1997) (predicted rating: 2.44)\n",
      "  Kull the Conqueror (1997) (predicted rating: 2.44)\n",
      "\n",
      "User 886 - Recommended Movies:\n",
      "  Princess Bride, The (1987) (predicted rating: 3.85)\n",
      "  Professional, The (1994) (predicted rating: 3.75)\n",
      "  Forrest Gump (1994) (predicted rating: 3.72)\n",
      "  Blade Runner (1982) (predicted rating: 3.72)\n",
      "  Return of the Jedi (1983) (predicted rating: 3.70)\n"
     ]
    }
   ],
   "source": [
    "# Show titles instead of item IDs\n",
    "for uid, user_ratings in list(top_n.items())[:5]:\n",
    "    print(f\"\\nUser {uid} - Recommended Movies:\")\n",
    "    for iid, rating in user_ratings:\n",
    "        movie_title = item_df[item_df['movie_id'] == iid]['title'].values[0]\n",
    "        print(f\"  {movie_title} (predicted rating: {rating:.2f})\")\n"
   ]
  },
  {
   "cell_type": "code",
   "execution_count": null,
   "id": "4167c02b-39a6-47c1-a3e4-65d619e8f080",
   "metadata": {},
   "outputs": [],
   "source": []
  }
 ],
 "metadata": {
  "kernelspec": {
   "display_name": "Python (myenv)",
   "language": "python",
   "name": "myenv"
  },
  "language_info": {
   "codemirror_mode": {
    "name": "ipython",
    "version": 3
   },
   "file_extension": ".py",
   "mimetype": "text/x-python",
   "name": "python",
   "nbconvert_exporter": "python",
   "pygments_lexer": "ipython3",
   "version": "3.13.3"
  }
 },
 "nbformat": 4,
 "nbformat_minor": 5
}

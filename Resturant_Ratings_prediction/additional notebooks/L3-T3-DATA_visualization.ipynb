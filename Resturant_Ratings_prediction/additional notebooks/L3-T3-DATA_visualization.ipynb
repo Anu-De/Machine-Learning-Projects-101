{
 "cells": [
  {
   "cell_type": "markdown",
   "id": "1c6a0a02-73c2-489d-907c-1ba6677a5b06",
   "metadata": {},
   "source": [
    "<h1>Importing Liberaries and uploading the dataset</h1>"
   ]
  },
  {
   "cell_type": "code",
   "execution_count": 1,
   "id": "d7d10895-5c1d-4e3b-adc6-1d2637ff8a07",
   "metadata": {},
   "outputs": [],
   "source": [
    "import numpy as np\n",
    "import pandas as pd\n",
    "import matplotlib.pyplot as plt\n",
    "import seaborn as sns\n",
    "import warnings\n",
    "warnings.filterwarnings(\"ignore\")\n",
    "import chardet\n",
    "import scipy as sp"
   ]
  },
  {
   "cell_type": "code",
   "execution_count": 3,
   "id": "38a272c4-1339-4c68-8849-ea917ddcc6e9",
   "metadata": {},
   "outputs": [
    {
     "name": "stdout",
     "output_type": "stream",
     "text": [
      "{'encoding': 'MacRoman', 'confidence': 0.6358511488511488, 'language': ''}\n"
     ]
    }
   ],
   "source": [
    "with open(\"./data/zomato.csv\", 'rb') as f:\n",
    "    result = chardet.detect(f.read(10000))\n",
    "    print(result)"
   ]
  },
  {
   "cell_type": "code",
   "execution_count": 4,
   "id": "ebdc06a3-b931-45d4-b742-23d06a76e426",
   "metadata": {},
   "outputs": [],
   "source": [
    "df = pd.read_csv(\"./data/zomato.csv\", encoding=result['encoding'])"
   ]
  },
  {
   "cell_type": "markdown",
   "id": "9fa73434-c5fa-4872-9419-254e5b4d501c",
   "metadata": {},
   "source": [
    "<h1>Task 1: Data Exploration</h1>"
   ]
  },
  {
   "cell_type": "code",
   "execution_count": 6,
   "id": "2a9766e6-1ca7-4665-bdaf-783d80242111",
   "metadata": {},
   "outputs": [
    {
     "data": {
      "text/html": [
       "<div>\n",
       "<style scoped>\n",
       "    .dataframe tbody tr th:only-of-type {\n",
       "        vertical-align: middle;\n",
       "    }\n",
       "\n",
       "    .dataframe tbody tr th {\n",
       "        vertical-align: top;\n",
       "    }\n",
       "\n",
       "    .dataframe thead th {\n",
       "        text-align: right;\n",
       "    }\n",
       "</style>\n",
       "<table border=\"1\" class=\"dataframe\">\n",
       "  <thead>\n",
       "    <tr style=\"text-align: right;\">\n",
       "      <th></th>\n",
       "      <th>Restaurant ID</th>\n",
       "      <th>Restaurant Name</th>\n",
       "      <th>Country Code</th>\n",
       "      <th>City</th>\n",
       "      <th>Address</th>\n",
       "      <th>Locality</th>\n",
       "      <th>Locality Verbose</th>\n",
       "      <th>Longitude</th>\n",
       "      <th>Latitude</th>\n",
       "      <th>Cuisines</th>\n",
       "      <th>...</th>\n",
       "      <th>Currency</th>\n",
       "      <th>Has Table booking</th>\n",
       "      <th>Has Online delivery</th>\n",
       "      <th>Is delivering now</th>\n",
       "      <th>Switch to order menu</th>\n",
       "      <th>Price range</th>\n",
       "      <th>Aggregate rating</th>\n",
       "      <th>Rating color</th>\n",
       "      <th>Rating text</th>\n",
       "      <th>Votes</th>\n",
       "    </tr>\n",
       "  </thead>\n",
       "  <tbody>\n",
       "    <tr>\n",
       "      <th>0</th>\n",
       "      <td>6317637</td>\n",
       "      <td>Le Petit Souffle</td>\n",
       "      <td>162</td>\n",
       "      <td>Makati City</td>\n",
       "      <td>Third Floor, Century City Mall, Kalayaan Avenu...</td>\n",
       "      <td>Century City Mall, Poblacion, Makati City</td>\n",
       "      <td>Century City Mall, Poblacion, Makati City, Mak...</td>\n",
       "      <td>121.027535</td>\n",
       "      <td>14.565443</td>\n",
       "      <td>French, Japanese, Desserts</td>\n",
       "      <td>...</td>\n",
       "      <td>Botswana Pula(P)</td>\n",
       "      <td>Yes</td>\n",
       "      <td>No</td>\n",
       "      <td>No</td>\n",
       "      <td>No</td>\n",
       "      <td>3</td>\n",
       "      <td>4.8</td>\n",
       "      <td>Dark Green</td>\n",
       "      <td>Excellent</td>\n",
       "      <td>314</td>\n",
       "    </tr>\n",
       "    <tr>\n",
       "      <th>1</th>\n",
       "      <td>6304287</td>\n",
       "      <td>Izakaya Kikufuji</td>\n",
       "      <td>162</td>\n",
       "      <td>Makati City</td>\n",
       "      <td>Little Tokyo, 2277 Chino Roces Avenue, Legaspi...</td>\n",
       "      <td>Little Tokyo, Legaspi Village, Makati City</td>\n",
       "      <td>Little Tokyo, Legaspi Village, Makati City, Ma...</td>\n",
       "      <td>121.014101</td>\n",
       "      <td>14.553708</td>\n",
       "      <td>Japanese</td>\n",
       "      <td>...</td>\n",
       "      <td>Botswana Pula(P)</td>\n",
       "      <td>Yes</td>\n",
       "      <td>No</td>\n",
       "      <td>No</td>\n",
       "      <td>No</td>\n",
       "      <td>3</td>\n",
       "      <td>4.5</td>\n",
       "      <td>Dark Green</td>\n",
       "      <td>Excellent</td>\n",
       "      <td>591</td>\n",
       "    </tr>\n",
       "    <tr>\n",
       "      <th>2</th>\n",
       "      <td>6300002</td>\n",
       "      <td>Heat - Edsa Shangri-La</td>\n",
       "      <td>162</td>\n",
       "      <td>Mandaluyong City</td>\n",
       "      <td>Edsa Shangri-La, 1 Garden Way, Ortigas, Mandal...</td>\n",
       "      <td>Edsa Shangri-La, Ortigas, Mandaluyong City</td>\n",
       "      <td>Edsa Shangri-La, Ortigas, Mandaluyong City, Ma...</td>\n",
       "      <td>121.056831</td>\n",
       "      <td>14.581404</td>\n",
       "      <td>Seafood, Asian, Filipino, Indian</td>\n",
       "      <td>...</td>\n",
       "      <td>Botswana Pula(P)</td>\n",
       "      <td>Yes</td>\n",
       "      <td>No</td>\n",
       "      <td>No</td>\n",
       "      <td>No</td>\n",
       "      <td>4</td>\n",
       "      <td>4.4</td>\n",
       "      <td>Green</td>\n",
       "      <td>Very Good</td>\n",
       "      <td>270</td>\n",
       "    </tr>\n",
       "    <tr>\n",
       "      <th>3</th>\n",
       "      <td>6318506</td>\n",
       "      <td>Ooma</td>\n",
       "      <td>162</td>\n",
       "      <td>Mandaluyong City</td>\n",
       "      <td>Third Floor, Mega Fashion Hall, SM Megamall, O...</td>\n",
       "      <td>SM Megamall, Ortigas, Mandaluyong City</td>\n",
       "      <td>SM Megamall, Ortigas, Mandaluyong City, Mandal...</td>\n",
       "      <td>121.056475</td>\n",
       "      <td>14.585318</td>\n",
       "      <td>Japanese, Sushi</td>\n",
       "      <td>...</td>\n",
       "      <td>Botswana Pula(P)</td>\n",
       "      <td>No</td>\n",
       "      <td>No</td>\n",
       "      <td>No</td>\n",
       "      <td>No</td>\n",
       "      <td>4</td>\n",
       "      <td>4.9</td>\n",
       "      <td>Dark Green</td>\n",
       "      <td>Excellent</td>\n",
       "      <td>365</td>\n",
       "    </tr>\n",
       "    <tr>\n",
       "      <th>4</th>\n",
       "      <td>6314302</td>\n",
       "      <td>Sambo Kojin</td>\n",
       "      <td>162</td>\n",
       "      <td>Mandaluyong City</td>\n",
       "      <td>Third Floor, Mega Atrium, SM Megamall, Ortigas...</td>\n",
       "      <td>SM Megamall, Ortigas, Mandaluyong City</td>\n",
       "      <td>SM Megamall, Ortigas, Mandaluyong City, Mandal...</td>\n",
       "      <td>121.057508</td>\n",
       "      <td>14.584450</td>\n",
       "      <td>Japanese, Korean</td>\n",
       "      <td>...</td>\n",
       "      <td>Botswana Pula(P)</td>\n",
       "      <td>Yes</td>\n",
       "      <td>No</td>\n",
       "      <td>No</td>\n",
       "      <td>No</td>\n",
       "      <td>4</td>\n",
       "      <td>4.8</td>\n",
       "      <td>Dark Green</td>\n",
       "      <td>Excellent</td>\n",
       "      <td>229</td>\n",
       "    </tr>\n",
       "  </tbody>\n",
       "</table>\n",
       "<p>5 rows × 21 columns</p>\n",
       "</div>"
      ],
      "text/plain": [
       "   Restaurant ID         Restaurant Name  Country Code              City  \\\n",
       "0        6317637        Le Petit Souffle           162       Makati City   \n",
       "1        6304287        Izakaya Kikufuji           162       Makati City   \n",
       "2        6300002  Heat - Edsa Shangri-La           162  Mandaluyong City   \n",
       "3        6318506                    Ooma           162  Mandaluyong City   \n",
       "4        6314302             Sambo Kojin           162  Mandaluyong City   \n",
       "\n",
       "                                             Address  \\\n",
       "0  Third Floor, Century City Mall, Kalayaan Avenu...   \n",
       "1  Little Tokyo, 2277 Chino Roces Avenue, Legaspi...   \n",
       "2  Edsa Shangri-La, 1 Garden Way, Ortigas, Mandal...   \n",
       "3  Third Floor, Mega Fashion Hall, SM Megamall, O...   \n",
       "4  Third Floor, Mega Atrium, SM Megamall, Ortigas...   \n",
       "\n",
       "                                     Locality  \\\n",
       "0   Century City Mall, Poblacion, Makati City   \n",
       "1  Little Tokyo, Legaspi Village, Makati City   \n",
       "2  Edsa Shangri-La, Ortigas, Mandaluyong City   \n",
       "3      SM Megamall, Ortigas, Mandaluyong City   \n",
       "4      SM Megamall, Ortigas, Mandaluyong City   \n",
       "\n",
       "                                    Locality Verbose   Longitude   Latitude  \\\n",
       "0  Century City Mall, Poblacion, Makati City, Mak...  121.027535  14.565443   \n",
       "1  Little Tokyo, Legaspi Village, Makati City, Ma...  121.014101  14.553708   \n",
       "2  Edsa Shangri-La, Ortigas, Mandaluyong City, Ma...  121.056831  14.581404   \n",
       "3  SM Megamall, Ortigas, Mandaluyong City, Mandal...  121.056475  14.585318   \n",
       "4  SM Megamall, Ortigas, Mandaluyong City, Mandal...  121.057508  14.584450   \n",
       "\n",
       "                           Cuisines  ...          Currency Has Table booking  \\\n",
       "0        French, Japanese, Desserts  ...  Botswana Pula(P)               Yes   \n",
       "1                          Japanese  ...  Botswana Pula(P)               Yes   \n",
       "2  Seafood, Asian, Filipino, Indian  ...  Botswana Pula(P)               Yes   \n",
       "3                   Japanese, Sushi  ...  Botswana Pula(P)                No   \n",
       "4                  Japanese, Korean  ...  Botswana Pula(P)               Yes   \n",
       "\n",
       "  Has Online delivery Is delivering now Switch to order menu Price range  \\\n",
       "0                  No                No                   No           3   \n",
       "1                  No                No                   No           3   \n",
       "2                  No                No                   No           4   \n",
       "3                  No                No                   No           4   \n",
       "4                  No                No                   No           4   \n",
       "\n",
       "   Aggregate rating  Rating color Rating text Votes  \n",
       "0               4.8    Dark Green   Excellent   314  \n",
       "1               4.5    Dark Green   Excellent   591  \n",
       "2               4.4         Green   Very Good   270  \n",
       "3               4.9    Dark Green   Excellent   365  \n",
       "4               4.8    Dark Green   Excellent   229  \n",
       "\n",
       "[5 rows x 21 columns]"
      ]
     },
     "execution_count": 6,
     "metadata": {},
     "output_type": "execute_result"
    }
   ],
   "source": [
    "df.head()"
   ]
  },
  {
   "cell_type": "code",
   "execution_count": 8,
   "id": "25b83d1a-a9ec-4cdd-939c-0276af422684",
   "metadata": {},
   "outputs": [
    {
     "data": {
      "text/plain": [
       "(9551, 21)"
      ]
     },
     "execution_count": 8,
     "metadata": {},
     "output_type": "execute_result"
    }
   ],
   "source": [
    "df.shape"
   ]
  },
  {
   "cell_type": "code",
   "execution_count": 9,
   "id": "0899fc5e-93d8-42ed-9d09-5bdabaa9fbff",
   "metadata": {},
   "outputs": [
    {
     "name": "stdout",
     "output_type": "stream",
     "text": [
      "<class 'pandas.core.frame.DataFrame'>\n",
      "RangeIndex: 9551 entries, 0 to 9550\n",
      "Data columns (total 21 columns):\n",
      " #   Column                Non-Null Count  Dtype  \n",
      "---  ------                --------------  -----  \n",
      " 0   Restaurant ID         9551 non-null   int64  \n",
      " 1   Restaurant Name       9551 non-null   object \n",
      " 2   Country Code          9551 non-null   int64  \n",
      " 3   City                  9551 non-null   object \n",
      " 4   Address               9551 non-null   object \n",
      " 5   Locality              9551 non-null   object \n",
      " 6   Locality Verbose      9551 non-null   object \n",
      " 7   Longitude             9551 non-null   float64\n",
      " 8   Latitude              9551 non-null   float64\n",
      " 9   Cuisines              9542 non-null   object \n",
      " 10  Average Cost for two  9551 non-null   int64  \n",
      " 11  Currency              9551 non-null   object \n",
      " 12  Has Table booking     9551 non-null   object \n",
      " 13  Has Online delivery   9551 non-null   object \n",
      " 14  Is delivering now     9551 non-null   object \n",
      " 15  Switch to order menu  9551 non-null   object \n",
      " 16  Price range           9551 non-null   int64  \n",
      " 17  Aggregate rating      9551 non-null   float64\n",
      " 18  Rating color          9551 non-null   object \n",
      " 19  Rating text           9551 non-null   object \n",
      " 20  Votes                 9551 non-null   int64  \n",
      "dtypes: float64(3), int64(5), object(13)\n",
      "memory usage: 1.5+ MB\n"
     ]
    }
   ],
   "source": [
    "df.info()"
   ]
  },
  {
   "cell_type": "code",
   "execution_count": 10,
   "id": "9cd2dca7-544d-4548-b25a-f47490b71684",
   "metadata": {},
   "outputs": [
    {
     "data": {
      "text/html": [
       "<div>\n",
       "<style scoped>\n",
       "    .dataframe tbody tr th:only-of-type {\n",
       "        vertical-align: middle;\n",
       "    }\n",
       "\n",
       "    .dataframe tbody tr th {\n",
       "        vertical-align: top;\n",
       "    }\n",
       "\n",
       "    .dataframe thead th {\n",
       "        text-align: right;\n",
       "    }\n",
       "</style>\n",
       "<table border=\"1\" class=\"dataframe\">\n",
       "  <thead>\n",
       "    <tr style=\"text-align: right;\">\n",
       "      <th></th>\n",
       "      <th>Restaurant ID</th>\n",
       "      <th>Country Code</th>\n",
       "      <th>Longitude</th>\n",
       "      <th>Latitude</th>\n",
       "      <th>Average Cost for two</th>\n",
       "      <th>Price range</th>\n",
       "      <th>Aggregate rating</th>\n",
       "      <th>Votes</th>\n",
       "    </tr>\n",
       "  </thead>\n",
       "  <tbody>\n",
       "    <tr>\n",
       "      <th>count</th>\n",
       "      <td>9.551000e+03</td>\n",
       "      <td>9551.000000</td>\n",
       "      <td>9551.000000</td>\n",
       "      <td>9551.000000</td>\n",
       "      <td>9551.000000</td>\n",
       "      <td>9551.000000</td>\n",
       "      <td>9551.000000</td>\n",
       "      <td>9551.000000</td>\n",
       "    </tr>\n",
       "    <tr>\n",
       "      <th>mean</th>\n",
       "      <td>9.051128e+06</td>\n",
       "      <td>18.365616</td>\n",
       "      <td>64.126574</td>\n",
       "      <td>25.854381</td>\n",
       "      <td>1199.210763</td>\n",
       "      <td>1.804837</td>\n",
       "      <td>2.666370</td>\n",
       "      <td>156.909748</td>\n",
       "    </tr>\n",
       "    <tr>\n",
       "      <th>std</th>\n",
       "      <td>8.791521e+06</td>\n",
       "      <td>56.750546</td>\n",
       "      <td>41.467058</td>\n",
       "      <td>11.007935</td>\n",
       "      <td>16121.183073</td>\n",
       "      <td>0.905609</td>\n",
       "      <td>1.516378</td>\n",
       "      <td>430.169145</td>\n",
       "    </tr>\n",
       "    <tr>\n",
       "      <th>min</th>\n",
       "      <td>5.300000e+01</td>\n",
       "      <td>1.000000</td>\n",
       "      <td>-157.948486</td>\n",
       "      <td>-41.330428</td>\n",
       "      <td>0.000000</td>\n",
       "      <td>1.000000</td>\n",
       "      <td>0.000000</td>\n",
       "      <td>0.000000</td>\n",
       "    </tr>\n",
       "    <tr>\n",
       "      <th>25%</th>\n",
       "      <td>3.019625e+05</td>\n",
       "      <td>1.000000</td>\n",
       "      <td>77.081343</td>\n",
       "      <td>28.478713</td>\n",
       "      <td>250.000000</td>\n",
       "      <td>1.000000</td>\n",
       "      <td>2.500000</td>\n",
       "      <td>5.000000</td>\n",
       "    </tr>\n",
       "    <tr>\n",
       "      <th>50%</th>\n",
       "      <td>6.004089e+06</td>\n",
       "      <td>1.000000</td>\n",
       "      <td>77.191964</td>\n",
       "      <td>28.570469</td>\n",
       "      <td>400.000000</td>\n",
       "      <td>2.000000</td>\n",
       "      <td>3.200000</td>\n",
       "      <td>31.000000</td>\n",
       "    </tr>\n",
       "    <tr>\n",
       "      <th>75%</th>\n",
       "      <td>1.835229e+07</td>\n",
       "      <td>1.000000</td>\n",
       "      <td>77.282006</td>\n",
       "      <td>28.642758</td>\n",
       "      <td>700.000000</td>\n",
       "      <td>2.000000</td>\n",
       "      <td>3.700000</td>\n",
       "      <td>131.000000</td>\n",
       "    </tr>\n",
       "    <tr>\n",
       "      <th>max</th>\n",
       "      <td>1.850065e+07</td>\n",
       "      <td>216.000000</td>\n",
       "      <td>174.832089</td>\n",
       "      <td>55.976980</td>\n",
       "      <td>800000.000000</td>\n",
       "      <td>4.000000</td>\n",
       "      <td>4.900000</td>\n",
       "      <td>10934.000000</td>\n",
       "    </tr>\n",
       "  </tbody>\n",
       "</table>\n",
       "</div>"
      ],
      "text/plain": [
       "       Restaurant ID  Country Code    Longitude     Latitude  \\\n",
       "count   9.551000e+03   9551.000000  9551.000000  9551.000000   \n",
       "mean    9.051128e+06     18.365616    64.126574    25.854381   \n",
       "std     8.791521e+06     56.750546    41.467058    11.007935   \n",
       "min     5.300000e+01      1.000000  -157.948486   -41.330428   \n",
       "25%     3.019625e+05      1.000000    77.081343    28.478713   \n",
       "50%     6.004089e+06      1.000000    77.191964    28.570469   \n",
       "75%     1.835229e+07      1.000000    77.282006    28.642758   \n",
       "max     1.850065e+07    216.000000   174.832089    55.976980   \n",
       "\n",
       "       Average Cost for two  Price range  Aggregate rating         Votes  \n",
       "count           9551.000000  9551.000000       9551.000000   9551.000000  \n",
       "mean            1199.210763     1.804837          2.666370    156.909748  \n",
       "std            16121.183073     0.905609          1.516378    430.169145  \n",
       "min                0.000000     1.000000          0.000000      0.000000  \n",
       "25%              250.000000     1.000000          2.500000      5.000000  \n",
       "50%              400.000000     2.000000          3.200000     31.000000  \n",
       "75%              700.000000     2.000000          3.700000    131.000000  \n",
       "max           800000.000000     4.000000          4.900000  10934.000000  "
      ]
     },
     "execution_count": 10,
     "metadata": {},
     "output_type": "execute_result"
    }
   ],
   "source": [
    "df.describe()"
   ]
  },
  {
   "cell_type": "code",
   "execution_count": 11,
   "id": "15a26bb2-d2cc-4721-903d-56d6cbebbb75",
   "metadata": {},
   "outputs": [
    {
     "data": {
      "text/plain": [
       "Restaurant ID           0\n",
       "Restaurant Name         0\n",
       "Country Code            0\n",
       "City                    0\n",
       "Address                 0\n",
       "Locality                0\n",
       "Locality Verbose        0\n",
       "Longitude               0\n",
       "Latitude                0\n",
       "Cuisines                9\n",
       "Average Cost for two    0\n",
       "Currency                0\n",
       "Has Table booking       0\n",
       "Has Online delivery     0\n",
       "Is delivering now       0\n",
       "Switch to order menu    0\n",
       "Price range             0\n",
       "Aggregate rating        0\n",
       "Rating color            0\n",
       "Rating text             0\n",
       "Votes                   0\n",
       "dtype: int64"
      ]
     },
     "execution_count": 11,
     "metadata": {},
     "output_type": "execute_result"
    }
   ],
   "source": [
    "df.isnull().sum()"
   ]
  },
  {
   "cell_type": "code",
   "execution_count": 14,
   "id": "5cdcdbfb-201c-422e-a05c-8268d160ffc2",
   "metadata": {},
   "outputs": [
    {
     "data": {
      "text/plain": [
       "np.int64(0)"
      ]
     },
     "execution_count": 14,
     "metadata": {},
     "output_type": "execute_result"
    }
   ],
   "source": [
    "df.duplicated().sum()"
   ]
  },
  {
   "cell_type": "code",
   "execution_count": 15,
   "id": "94b5951c-fa73-40b2-b7e1-3a54353b0341",
   "metadata": {},
   "outputs": [
    {
     "data": {
      "text/plain": [
       "Restaurant ID           9551\n",
       "Restaurant Name         7446\n",
       "Country Code              15\n",
       "City                     141\n",
       "Address                 8918\n",
       "Locality                1208\n",
       "Locality Verbose        1265\n",
       "Longitude               8120\n",
       "Latitude                8677\n",
       "Cuisines                1825\n",
       "Average Cost for two     140\n",
       "Currency                  12\n",
       "Has Table booking          2\n",
       "Has Online delivery        2\n",
       "Is delivering now          2\n",
       "Switch to order menu       1\n",
       "Price range                4\n",
       "Aggregate rating          33\n",
       "Rating color               6\n",
       "Rating text                6\n",
       "Votes                   1012\n",
       "dtype: int64"
      ]
     },
     "execution_count": 15,
     "metadata": {},
     "output_type": "execute_result"
    }
   ],
   "source": [
    "df.nunique()"
   ]
  },
  {
   "cell_type": "markdown",
   "id": "6d924b5f-8ce4-4c2e-8ea7-0f11bacb55bd",
   "metadata": {},
   "source": [
    "<h2>Data Preprocessing on Features</h2>"
   ]
  },
  {
   "cell_type": "markdown",
   "id": "6fd25310-b99c-4a69-bd4d-203b17940d4c",
   "metadata": {},
   "source": [
    "<h3>Categorical Cols</h3>"
   ]
  },
  {
   "cell_type": "code",
   "execution_count": 16,
   "id": "7193bad3-2816-4ed0-ac48-0be902275e76",
   "metadata": {},
   "outputs": [],
   "source": [
    "categorical_cols = df.select_dtypes(include='object').columns\n",
    "numerical_cols = df.select_dtypes(include=['int64', 'float64']).columns"
   ]
  },
  {
   "cell_type": "code",
   "execution_count": 17,
   "id": "de7e2a9c-0376-405e-9925-f493e4f708fd",
   "metadata": {},
   "outputs": [
    {
     "name": "stdout",
     "output_type": "stream",
     "text": [
      "Restaurant Name: 7446 unique values\n",
      "City: 141 unique values\n",
      "Address: 8918 unique values\n",
      "Locality: 1208 unique values\n",
      "Locality Verbose: 1265 unique values\n",
      "Cuisines: 1825 unique values\n",
      "Currency: 12 unique values\n",
      "Has Table booking: 2 unique values\n",
      "Has Online delivery: 2 unique values\n",
      "Is delivering now: 2 unique values\n",
      "Switch to order menu: 1 unique values\n",
      "Rating color: 6 unique values\n",
      "Rating text: 6 unique values\n"
     ]
    }
   ],
   "source": [
    "for col in categorical_cols:\n",
    "    print(f\"{col}: {df[col].nunique()} unique values\")"
   ]
  },
  {
   "cell_type": "code",
   "execution_count": 18,
   "id": "72e5ad36-519b-4a5e-9b7c-bddef858c6ba",
   "metadata": {
    "scrolled": true
   },
   "outputs": [
    {
     "name": "stdout",
     "output_type": "stream",
     "text": [
      "Restaurant Name\n",
      "Cafe Coffee Day     0.008690\n",
      "Domino's Pizza      0.008271\n",
      "Subway              0.006596\n",
      "Green Chick Chop    0.005340\n",
      "McDonald's          0.005026\n",
      "Keventers           0.003560\n",
      "Pizza Hut           0.003141\n",
      "Giani               0.003036\n",
      "Baskin Robbins      0.002932\n",
      "Barbeque Nation     0.002722\n",
      "Name: proportion, dtype: float64\n",
      "City\n",
      "New Delhi       0.573029\n",
      "Gurgaon         0.117056\n",
      "Noida           0.113077\n",
      "Faridabad       0.026280\n",
      "Ghaziabad       0.002618\n",
      "Bhubaneshwar    0.002199\n",
      "Lucknow         0.002199\n",
      "Ahmedabad       0.002199\n",
      "Amritsar        0.002199\n",
      "Guwahati        0.002199\n",
      "Name: proportion, dtype: float64\n",
      "Address\n",
      "Sector 41, Noida                                                              0.001152\n",
      "Dilli Haat, INA, New Delhi                                                    0.001152\n",
      "Greater Kailash (GK) 1, New Delhi                                             0.001047\n",
      "The Imperial, Janpath, New Delhi                                              0.000942\n",
      "Food Court, 3rd Floor, Logix City Centre, Sector 32, Near Sector 34, Noida    0.000838\n",
      "Cyber Hub, DLF Cyber City, Gurgaon                                            0.000838\n",
      "HUDA Market, Sector 56, Gurgaon                                               0.000838\n",
      "The Lalit, Barakhamba Avenue, Barakhamba Road, New Delhi                      0.000838\n",
      "Palate of Delhi, Dhaula Kuan Metro Station, Chanakyapuri, New Delhi           0.000838\n",
      "The Taj Mahal Hotel, 1, Mansingh Road, New Delhi                              0.000733\n",
      "Name: proportion, dtype: float64\n",
      "Locality\n",
      "Connaught Place        0.012774\n",
      "Rajouri Garden         0.010365\n",
      "Shahdara               0.009109\n",
      "Defence Colony         0.009004\n",
      "Pitampura              0.008900\n",
      "Malviya Nagar          0.008900\n",
      "Mayur Vihar Phase 1    0.008795\n",
      "Rajinder Nagar         0.008481\n",
      "Safdarjung             0.008376\n",
      "Satyaniketan           0.008271\n",
      "Name: proportion, dtype: float64\n",
      "Locality Verbose\n",
      "Connaught Place, New Delhi        0.012774\n",
      "Rajouri Garden, New Delhi         0.010365\n",
      "Shahdara, New Delhi               0.009109\n",
      "Defence Colony, New Delhi         0.009004\n",
      "Pitampura, New Delhi              0.008900\n",
      "Mayur Vihar Phase 1, New Delhi    0.008795\n",
      "Malviya Nagar, New Delhi          0.008795\n",
      "Rajinder Nagar, New Delhi         0.008481\n",
      "Safdarjung, New Delhi             0.008376\n",
      "Satyaniketan, New Delhi           0.008271\n",
      "Name: proportion, dtype: float64\n",
      "Cuisines\n",
      "North Indian                      0.098093\n",
      "North Indian, Chinese             0.053553\n",
      "Chinese                           0.037099\n",
      "Fast Food                         0.037099\n",
      "North Indian, Mughlai             0.035003\n",
      "Cafe                              0.031335\n",
      "Bakery                            0.022846\n",
      "North Indian, Mughlai, Chinese    0.020646\n",
      "Bakery, Desserts                  0.017816\n",
      "Street Food                       0.015615\n",
      "Name: proportion, dtype: float64\n",
      "Currency\n",
      "Indian Rupees(Rs.)        0.905874\n",
      "Dollar($)                 0.050466\n",
      "Pounds(å£)                0.008376\n",
      "Brazilian Real(R$)        0.006282\n",
      "Rand(R)                   0.006282\n",
      "Emirati Diram(AED)        0.006282\n",
      "NewZealand($)             0.004188\n",
      "Turkish Lira(TL)          0.003560\n",
      "Botswana Pula(P)          0.002303\n",
      "Indonesian Rupiah(IDR)    0.002199\n",
      "Name: proportion, dtype: float64\n",
      "Has Table booking\n",
      "No     0.878756\n",
      "Yes    0.121244\n",
      "Name: proportion, dtype: float64\n",
      "Has Online delivery\n",
      "No     0.743378\n",
      "Yes    0.256622\n",
      "Name: proportion, dtype: float64\n",
      "Is delivering now\n",
      "No     0.99644\n",
      "Yes    0.00356\n",
      "Name: proportion, dtype: float64\n",
      "Switch to order menu\n",
      "No    1.0\n",
      "Name: proportion, dtype: float64\n",
      "Rating color\n",
      "Orange        0.391268\n",
      "White         0.224898\n",
      "Yellow        0.219872\n",
      "Green         0.112972\n",
      "Dark Green    0.031515\n",
      "Red           0.019474\n",
      "Name: proportion, dtype: float64\n",
      "Rating text\n",
      "Average      0.391268\n",
      "Not rated    0.224898\n",
      "Good         0.219872\n",
      "Very Good    0.112972\n",
      "Excellent    0.031515\n",
      "Poor         0.019474\n",
      "Name: proportion, dtype: float64\n"
     ]
    }
   ],
   "source": [
    "for col in categorical_cols:\n",
    "    print(df[col].value_counts(normalize=True).head(10))"
   ]
  },
  {
   "cell_type": "code",
   "execution_count": 22,
   "id": "bb7ee688-6fa8-48ce-ba69-f89c1e555587",
   "metadata": {},
   "outputs": [],
   "source": [
    "df['Primary Cuisine'] = df['Cuisines'].str.split(',').str[0].str.strip().str.lower()\n",
    "top_cuisines = df['Primary Cuisine'].value_counts().nlargest(10).index\n",
    "df['Cuisine Grouped'] = df['Primary Cuisine'].apply(lambda x: x if x in top_cuisines else 'Other')"
   ]
  },
  {
   "cell_type": "code",
   "execution_count": 23,
   "id": "831f9959-9634-4fbf-8c19-8a044d055f4f",
   "metadata": {},
   "outputs": [],
   "source": [
    "text_cols = ['City', 'Locality', 'Locality Verbose', 'Rating text']\n",
    "for col in text_cols:\n",
    "    df[col] = df[col].str.strip().str.lower()"
   ]
  },
  {
   "cell_type": "code",
   "execution_count": 24,
   "id": "0807230b-e350-4063-b4ae-a0d7adf55719",
   "metadata": {},
   "outputs": [],
   "source": [
    "cat_cols = ['City', 'Has Table booking', 'Has Online delivery', 'Is delivering now', 'Rating text', 'Cuisine Grouped']\n",
    "df[cat_cols] = df[cat_cols].astype('category')\n"
   ]
  },
  {
   "cell_type": "code",
   "execution_count": 25,
   "id": "bd732640-4169-44c9-b3d3-00bc67d1b9ee",
   "metadata": {},
   "outputs": [],
   "source": [
    "df['Rating Category'] = pd.cut(df['Aggregate rating'], bins=[0, 2, 3, 4, 5], labels=['Poor', 'Average', 'Good', 'Excellent'])"
   ]
  },
  {
   "cell_type": "markdown",
   "id": "7487b565-e868-482e-b713-47f14f6a5dfd",
   "metadata": {},
   "source": [
    "<h2>Numerical COls</h2>"
   ]
  },
  {
   "cell_type": "code",
   "execution_count": 20,
   "id": "b34f31a0-91ec-4c80-9593-85d0e6d99c2e",
   "metadata": {},
   "outputs": [
    {
     "data": {
      "text/html": [
       "<div>\n",
       "<style scoped>\n",
       "    .dataframe tbody tr th:only-of-type {\n",
       "        vertical-align: middle;\n",
       "    }\n",
       "\n",
       "    .dataframe tbody tr th {\n",
       "        vertical-align: top;\n",
       "    }\n",
       "\n",
       "    .dataframe thead th {\n",
       "        text-align: right;\n",
       "    }\n",
       "</style>\n",
       "<table border=\"1\" class=\"dataframe\">\n",
       "  <thead>\n",
       "    <tr style=\"text-align: right;\">\n",
       "      <th></th>\n",
       "      <th>Restaurant ID</th>\n",
       "      <th>Country Code</th>\n",
       "      <th>Longitude</th>\n",
       "      <th>Latitude</th>\n",
       "      <th>Average Cost for two</th>\n",
       "      <th>Price range</th>\n",
       "      <th>Aggregate rating</th>\n",
       "      <th>Votes</th>\n",
       "    </tr>\n",
       "  </thead>\n",
       "  <tbody>\n",
       "    <tr>\n",
       "      <th>count</th>\n",
       "      <td>9.551000e+03</td>\n",
       "      <td>9551.000000</td>\n",
       "      <td>9551.000000</td>\n",
       "      <td>9551.000000</td>\n",
       "      <td>9551.000000</td>\n",
       "      <td>9551.000000</td>\n",
       "      <td>9551.000000</td>\n",
       "      <td>9551.000000</td>\n",
       "    </tr>\n",
       "    <tr>\n",
       "      <th>mean</th>\n",
       "      <td>9.051128e+06</td>\n",
       "      <td>18.365616</td>\n",
       "      <td>64.126574</td>\n",
       "      <td>25.854381</td>\n",
       "      <td>1199.210763</td>\n",
       "      <td>1.804837</td>\n",
       "      <td>2.666370</td>\n",
       "      <td>156.909748</td>\n",
       "    </tr>\n",
       "    <tr>\n",
       "      <th>std</th>\n",
       "      <td>8.791521e+06</td>\n",
       "      <td>56.750546</td>\n",
       "      <td>41.467058</td>\n",
       "      <td>11.007935</td>\n",
       "      <td>16121.183073</td>\n",
       "      <td>0.905609</td>\n",
       "      <td>1.516378</td>\n",
       "      <td>430.169145</td>\n",
       "    </tr>\n",
       "    <tr>\n",
       "      <th>min</th>\n",
       "      <td>5.300000e+01</td>\n",
       "      <td>1.000000</td>\n",
       "      <td>-157.948486</td>\n",
       "      <td>-41.330428</td>\n",
       "      <td>0.000000</td>\n",
       "      <td>1.000000</td>\n",
       "      <td>0.000000</td>\n",
       "      <td>0.000000</td>\n",
       "    </tr>\n",
       "    <tr>\n",
       "      <th>25%</th>\n",
       "      <td>3.019625e+05</td>\n",
       "      <td>1.000000</td>\n",
       "      <td>77.081343</td>\n",
       "      <td>28.478713</td>\n",
       "      <td>250.000000</td>\n",
       "      <td>1.000000</td>\n",
       "      <td>2.500000</td>\n",
       "      <td>5.000000</td>\n",
       "    </tr>\n",
       "    <tr>\n",
       "      <th>50%</th>\n",
       "      <td>6.004089e+06</td>\n",
       "      <td>1.000000</td>\n",
       "      <td>77.191964</td>\n",
       "      <td>28.570469</td>\n",
       "      <td>400.000000</td>\n",
       "      <td>2.000000</td>\n",
       "      <td>3.200000</td>\n",
       "      <td>31.000000</td>\n",
       "    </tr>\n",
       "    <tr>\n",
       "      <th>75%</th>\n",
       "      <td>1.835229e+07</td>\n",
       "      <td>1.000000</td>\n",
       "      <td>77.282006</td>\n",
       "      <td>28.642758</td>\n",
       "      <td>700.000000</td>\n",
       "      <td>2.000000</td>\n",
       "      <td>3.700000</td>\n",
       "      <td>131.000000</td>\n",
       "    </tr>\n",
       "    <tr>\n",
       "      <th>max</th>\n",
       "      <td>1.850065e+07</td>\n",
       "      <td>216.000000</td>\n",
       "      <td>174.832089</td>\n",
       "      <td>55.976980</td>\n",
       "      <td>800000.000000</td>\n",
       "      <td>4.000000</td>\n",
       "      <td>4.900000</td>\n",
       "      <td>10934.000000</td>\n",
       "    </tr>\n",
       "  </tbody>\n",
       "</table>\n",
       "</div>"
      ],
      "text/plain": [
       "       Restaurant ID  Country Code    Longitude     Latitude  \\\n",
       "count   9.551000e+03   9551.000000  9551.000000  9551.000000   \n",
       "mean    9.051128e+06     18.365616    64.126574    25.854381   \n",
       "std     8.791521e+06     56.750546    41.467058    11.007935   \n",
       "min     5.300000e+01      1.000000  -157.948486   -41.330428   \n",
       "25%     3.019625e+05      1.000000    77.081343    28.478713   \n",
       "50%     6.004089e+06      1.000000    77.191964    28.570469   \n",
       "75%     1.835229e+07      1.000000    77.282006    28.642758   \n",
       "max     1.850065e+07    216.000000   174.832089    55.976980   \n",
       "\n",
       "       Average Cost for two  Price range  Aggregate rating         Votes  \n",
       "count           9551.000000  9551.000000       9551.000000   9551.000000  \n",
       "mean            1199.210763     1.804837          2.666370    156.909748  \n",
       "std            16121.183073     0.905609          1.516378    430.169145  \n",
       "min                0.000000     1.000000          0.000000      0.000000  \n",
       "25%              250.000000     1.000000          2.500000      5.000000  \n",
       "50%              400.000000     2.000000          3.200000     31.000000  \n",
       "75%              700.000000     2.000000          3.700000    131.000000  \n",
       "max           800000.000000     4.000000          4.900000  10934.000000  "
      ]
     },
     "execution_count": 20,
     "metadata": {},
     "output_type": "execute_result"
    }
   ],
   "source": [
    "df[numerical_cols].describe()"
   ]
  },
  {
   "cell_type": "code",
   "execution_count": 31,
   "id": "2ce50793-9bd2-4161-a796-cd1dc680a634",
   "metadata": {},
   "outputs": [
    {
     "data": {
      "text/plain": [
       "Restaurant ID           0.061570\n",
       "Country Code            3.043965\n",
       "Longitude              -2.807328\n",
       "Latitude               -3.081635\n",
       "Average Cost for two    2.568842\n",
       "Price range             0.889618\n",
       "Aggregate rating       -0.954130\n",
       "Votes                   3.781207\n",
       "dtype: float64"
      ]
     },
     "execution_count": 31,
     "metadata": {},
     "output_type": "execute_result"
    }
   ],
   "source": [
    "df[numerical_cols].skew()"
   ]
  },
  {
   "cell_type": "code",
   "execution_count": 26,
   "id": "98bab93a-2590-4f53-a724-700288f36a68",
   "metadata": {},
   "outputs": [],
   "source": [
    "from scipy.stats.mstats import winsorize\n",
    "\n",
    "df['Capped_Cost'] = winsorize(df['Average Cost for two'], limits=[0.01, 0.01])\n",
    "df['Capped_Votes'] = winsorize(df['Votes'], limits=[0.01, 0.01])"
   ]
  },
  {
   "cell_type": "code",
   "execution_count": 27,
   "id": "56c5257b-9d8a-4439-962c-0b83183417b3",
   "metadata": {},
   "outputs": [],
   "source": [
    "df['Capped_Cost'] = pd.Series(df['Capped_Cost'])\n",
    "df['Capped_Votes'] = pd.Series(df['Capped_Votes'])"
   ]
  },
  {
   "cell_type": "code",
   "execution_count": 28,
   "id": "ea4ae8cf-8d8b-49cc-bdf0-be48135ae65d",
   "metadata": {},
   "outputs": [],
   "source": [
    "df['Rating_Level'] = pd.cut(df['Aggregate rating'],\n",
    "                            bins=[0, 2, 3, 4, 5],\n",
    "                            labels=['Poor', 'Average', 'Good', 'Excellent'])"
   ]
  },
  {
   "cell_type": "code",
   "execution_count": 29,
   "id": "bb6338d0-604f-4765-a012-b72f269fd629",
   "metadata": {},
   "outputs": [],
   "source": [
    "price_map = {1: 'Low', 2: 'Mid', 3: 'High', 4: 'Luxury'}\n",
    "df['Price_Level'] = df['Price range'].map(price_map)"
   ]
  },
  {
   "cell_type": "code",
   "execution_count": 30,
   "id": "543e543a-a80c-4a4d-93ca-1e1b1b1ec6e4",
   "metadata": {},
   "outputs": [],
   "source": [
    "df.drop(columns=['Switch to order menu'], inplace=True) #NO varience Featurre"
   ]
  },
  {
   "cell_type": "markdown",
   "id": "8a5db916-34ea-4206-9b85-d9c9a2713abc",
   "metadata": {},
   "source": [
    "Some additional grouping"
   ]
  },
  {
   "cell_type": "code",
   "execution_count": 36,
   "id": "03dd261f-eeb6-4a9a-b933-79feb9da8f64",
   "metadata": {},
   "outputs": [],
   "source": [
    "# city grouping \n",
    "city_proportion = df['City'].value_counts(normalize=True)\n",
    "threshold = 0.01  # i.e., 1%\n",
    "common_cities = city_proportion[city_proportion > threshold].index\n",
    "df['City_grouped'] = df['City'].apply(lambda x: x if x in common_cities else 'Other')"
   ]
  },
  {
   "cell_type": "code",
   "execution_count": 37,
   "id": "a9ed254f-6c2c-4128-aa0d-6ff6c98c263e",
   "metadata": {},
   "outputs": [],
   "source": [
    "# Group all non-INR currencies as \"Other\"\n",
    "df['Currency_grouped'] = df['Currency'].apply(\n",
    "    lambda x: x if x == 'Indian Rupees(Rs.)' else 'Other'\n",
    ")"
   ]
  },
  {
   "cell_type": "code",
   "execution_count": 38,
   "id": "2e56a78c-c3c6-4ce2-85cb-c5a771bed9a8",
   "metadata": {},
   "outputs": [],
   "source": [
    "# Get top 10 most frequent cuisines\n",
    "top_cuisines = df['Cuisines'].value_counts().nlargest(10).index\n",
    "\n",
    "# Group all others into \"Other\"\n",
    "df['Cuisines_grouped'] = df['Cuisines'].apply(\n",
    "    lambda x: x if x in top_cuisines else 'Other'\n",
    ")"
   ]
  },
  {
   "cell_type": "code",
   "execution_count": null,
   "id": "2c1b528d-0a27-400e-a16a-1be33e076bf5",
   "metadata": {},
   "outputs": [],
   "source": []
  },
  {
   "cell_type": "markdown",
   "id": "0aa271bf-fc10-4367-aab6-fe4b682f975d",
   "metadata": {},
   "source": [
    "<H3>Task 2: DISCRIPTIVE ANALYSIS </H3>"
   ]
  },
  {
   "cell_type": "code",
   "execution_count": 42,
   "id": "5f93236f-ca13-41ee-8af7-e2c021cdbea7",
   "metadata": {},
   "outputs": [
    {
     "data": {
      "text/plain": [
       "Restaurant ID           6.004089e+06\n",
       "Country Code            1.000000e+00\n",
       "Longitude               7.719196e+01\n",
       "Latitude                2.857047e+01\n",
       "Average Cost for two    4.000000e+02\n",
       "Price range             2.000000e+00\n",
       "Aggregate rating        3.200000e+00\n",
       "Votes                   3.100000e+01\n",
       "dtype: float64"
      ]
     },
     "execution_count": 42,
     "metadata": {},
     "output_type": "execute_result"
    }
   ],
   "source": [
    "df[numerical_cols].median()"
   ]
  },
  {
   "cell_type": "code",
   "execution_count": 43,
   "id": "9bb3b0c6-d7d9-4f35-98ef-19152c63ed3e",
   "metadata": {},
   "outputs": [
    {
     "data": {
      "text/plain": [
       "Restaurant ID            53.0\n",
       "Country Code              1.0\n",
       "Longitude                 0.0\n",
       "Latitude                  0.0\n",
       "Average Cost for two    500.0\n",
       "Price range               1.0\n",
       "Aggregate rating          0.0\n",
       "Votes                     0.0\n",
       "Name: 0, dtype: float64"
      ]
     },
     "execution_count": 43,
     "metadata": {},
     "output_type": "execute_result"
    }
   ],
   "source": [
    "df[numerical_cols].mode().iloc[0]"
   ]
  },
  {
   "cell_type": "code",
   "execution_count": 44,
   "id": "b9155c29-e990-4d55-8bb4-f821e7fd5b26",
   "metadata": {},
   "outputs": [
    {
     "data": {
      "text/plain": [
       "Country Code\n",
       "1      0.905874\n",
       "216    0.045440\n",
       "215    0.008376\n",
       "30     0.006282\n",
       "189    0.006282\n",
       "214    0.006282\n",
       "148    0.004188\n",
       "208    0.003560\n",
       "14     0.002513\n",
       "162    0.002303\n",
       "94     0.002199\n",
       "166    0.002094\n",
       "184    0.002094\n",
       "191    0.002094\n",
       "37     0.000419\n",
       "Name: proportion, dtype: float64"
      ]
     },
     "execution_count": 44,
     "metadata": {},
     "output_type": "execute_result"
    }
   ],
   "source": [
    "df['Country Code'].value_counts(normalize=True)"
   ]
  },
  {
   "cell_type": "code",
   "execution_count": 45,
   "id": "38a1e9dd-f933-4a2f-a370-c54152aee43b",
   "metadata": {},
   "outputs": [
    {
     "data": {
      "text/plain": [
       "Cuisines\n",
       "North Indian                      936\n",
       "North Indian, Chinese             511\n",
       "Chinese                           354\n",
       "Fast Food                         354\n",
       "North Indian, Mughlai             334\n",
       "Cafe                              299\n",
       "Bakery                            218\n",
       "North Indian, Mughlai, Chinese    197\n",
       "Bakery, Desserts                  170\n",
       "Street Food                       149\n",
       "Name: count, dtype: int64"
      ]
     },
     "execution_count": 45,
     "metadata": {},
     "output_type": "execute_result"
    }
   ],
   "source": [
    "df['Cuisines'].value_counts().head(10)"
   ]
  },
  {
   "cell_type": "code",
   "execution_count": 48,
   "id": "f6ed5f6b-9eb4-4c55-a252-1f9b2a4ad417",
   "metadata": {},
   "outputs": [
    {
     "data": {
      "text/plain": [
       "Country Code\n",
       "1      8652\n",
       "216     434\n",
       "215      80\n",
       "30       60\n",
       "189      60\n",
       "214      60\n",
       "148      40\n",
       "208      34\n",
       "14       24\n",
       "162      22\n",
       "Name: count, dtype: int64"
      ]
     },
     "execution_count": 48,
     "metadata": {},
     "output_type": "execute_result"
    }
   ],
   "source": [
    "df['Country Code'].value_counts().head(10)"
   ]
  },
  {
   "cell_type": "code",
   "execution_count": 46,
   "id": "971f0ecc-aa22-4f38-a102-d0f66a147851",
   "metadata": {},
   "outputs": [
    {
     "data": {
      "text/plain": [
       "City\n",
       "new delhi       5473\n",
       "gurgaon         1118\n",
       "noida           1080\n",
       "faridabad        251\n",
       "ghaziabad         25\n",
       "bhubaneshwar      21\n",
       "lucknow           21\n",
       "guwahati          21\n",
       "ahmedabad         21\n",
       "amritsar          21\n",
       "Name: count, dtype: int64"
      ]
     },
     "execution_count": 46,
     "metadata": {},
     "output_type": "execute_result"
    }
   ],
   "source": [
    "df['City'].value_counts().head(10)"
   ]
  },
  {
   "cell_type": "markdown",
   "id": "6330fd33-a9e1-43c1-96fc-50285dcf52c2",
   "metadata": {},
   "source": [
    "df['Cuisines'].value_counts().head(10)\n"
   ]
  },
  {
   "cell_type": "markdown",
   "id": "de7358b7-de44-4bcf-ae93-6a21b44db13e",
   "metadata": {},
   "source": [
    " <h3>Descriptive Analysis Summary:</h3>\n",
    "\n",
    "    Numerical Features:\n",
    "\n",
    "        High skew in Votes and Average Cost for Two (outliers present)\n",
    "\n",
    "        Aggregate Rating has reasonable spread, negatively skewed\n",
    "\n",
    "    Categorical Features:\n",
    "\n",
    "        Most restaurants are located in New Delhi\n",
    "\n",
    "        Indian Rupees(Rs.) is the dominant currency\n",
    "\n",
    "        Top cuisines include: North Indian, Chinese, Fast Food, Cafe\n",
    "\n",
    "    Imbalance Observed:\n",
    "\n",
    "        Many rare currencies and cities\n",
    "\n",
    "        Cuisine combinations are highly diverse (1825 unique)\n"
   ]
  },
  {
   "cell_type": "markdown",
   "id": "47f3ec3b-107f-492b-9e36-0cc9ded7f17c",
   "metadata": {},
   "source": [
    "<h3>Task 3: Geospatial Analysis</h3>"
   ]
  },
  {
   "cell_type": "code",
   "execution_count": 76,
   "id": "6827bf5d-149e-461f-bc35-55539bc261f9",
   "metadata": {},
   "outputs": [],
   "source": [
    "import folium\n",
    "\n",
    "# Create a map centered around the mean location\n",
    "map_center = [df['Latitude'].mean(), df['Longitude'].mean()]\n",
    "restaurant_map = folium.Map(location=map_center, zoom_start=12)\n",
    "\n",
    "# Add restaurant markers\n",
    "for idx, row in df.iterrows():\n",
    "    folium.CircleMarker(\n",
    "        location=[row['Latitude'], row['Longitude']],\n",
    "        radius=3,\n",
    "        color='green' if row['Aggregate rating'] >= 4 else 'orange' if row['Aggregate rating'] >= 3 else 'red',\n",
    "        fill=True,\n",
    "        fill_opacity=0.7,\n",
    "        popup=f\"{row['Restaurant Name']} ({row['Aggregate rating']})\"\n",
    "    ).add_to(restaurant_map)\n",
    "\n",
    "# Save or display the map\n",
    "restaurant_map.save('zomato_restaurants_map.html')"
   ]
  },
  {
   "cell_type": "code",
   "execution_count": 53,
   "id": "b4fd6896-ca8b-4474-af7f-24ff87663311",
   "metadata": {},
   "outputs": [
    {
     "data": {
      "image/png": "[encoded data removed]",
      "text/plain": [
       "<Figure size 1000x500 with 1 Axes>"
      ]
     },
     "metadata": {},
     "output_type": "display_data"
    }
   ],
   "source": [
    "import seaborn as sns\n",
    "import matplotlib.pyplot as plt\n",
    "\n",
    "# Top cities\n",
    "top_cities = df['City_grouped'].value_counts().head(10)\n",
    "\n",
    "plt.figure(figsize=(10,5))\n",
    "sns.barplot(x=top_cities.values, y=top_cities.index, palette='viridis')\n",
    "plt.title(\"Top 5 Cities by Number of Restaurants\")\n",
    "plt.xlabel(\"Number of Restaurants\")\n",
    "plt.ylabel(\"City\")\n",
    "plt.tight_layout()\n",
    "plt.show()"
   ]
  },
  {
   "cell_type": "code",
   "execution_count": 59,
   "id": "db947ba4-dd32-4122-b309-7a159bc3ae21",
   "metadata": {},
   "outputs": [
    {
     "data": {
      "image/png": "[encoded data removed]",
      "text/plain": [
       "<Figure size 1000x600 with 1 Axes>"
      ]
     },
     "metadata": {},
     "output_type": "display_data"
    }
   ],
   "source": [
    "plt.figure(figsize=(10,6))\n",
    "sns.scatterplot(data=df, x='Longitude', y='Latitude', hue='Aggregate rating', palette='coolwarm', alpha=0.6)\n",
    "plt.title('Restaurant Locations Colored by Rating')\n",
    "plt.xlabel('Longitude')\n",
    "plt.ylabel('Latitude')\n",
    "plt.legend(title='Rating')\n",
    "plt.show()"
   ]
  },
  {
   "cell_type": "markdown",
   "id": "c2ffe5f3-99fd-4077-b62b-7efbdde7eac0",
   "metadata": {},
   "source": [
    "🌍 Task 3: Geospatial Analysis (Summary)\n",
    "✅ Objective:\n",
    "\n",
    "    Visualize restaurant locations using latitude & longitude.\n",
    "\n",
    "    Analyze restaurant distribution across cities/countries.\n",
    "\n",
    "    Check for correlation between location and rating.\n",
    "\n",
    "📌 Key Insights:\n",
    "\n",
    "    High density of restaurants in New Delhi (57%), followed by Gurgaon (11.7%) and Noida (11.3%).\n",
    "\n",
    "    Data is heavily skewed toward Indian cities — especially NCR.\n",
    "\n",
    "    Scatter plots and maps show restaurant clusters centered in NCR.\n",
    "\n",
    "    No strong correlation between latitude/longitude and aggregate rating.\n",
    "\n",
    "    Ratings are fairly evenly distributed across cities, regardless of location.\n",
    "\n",
    "🧠 Conclusion:\n",
    "\n",
    "    Location features (like City) may require balancing or grouping.\n",
    "\n",
    "    Geographic data is useful for clustering or recommendation systems, but not directly predictive of ratings."
   ]
  },
  {
   "cell_type": "markdown",
   "id": "1c51fc29-4a92-4ddc-bdc1-493c3fdd7e8d",
   "metadata": {},
   "source": [
    "<h2>Level 3-> Task 3: Data Visualization</h2>"
   ]
  },
  {
   "cell_type": "code",
   "execution_count": 64,
   "id": "0155aa1f-fe2f-4365-b7d9-b87b13e59eee",
   "metadata": {},
   "outputs": [
    {
     "data": {
      "image/png": "[encoded data removed]",
      "text/plain": [
       "<Figure size 1000x600 with 1 Axes>"
      ]
     },
     "metadata": {},
     "output_type": "display_data"
    }
   ],
   "source": [
    "import matplotlib.pyplot as plt\n",
    "import seaborn as sns\n",
    "\n",
    "# Histogram of aggregate ratings\n",
    "plt.figure(figsize=(10,6))\n",
    "sns.histplot(df['Aggregate rating'], bins=20, kde=True)\n",
    "plt.title('Distribution of Restaurant Ratings')\n",
    "plt.xlabel('Aggregate Rating')\n",
    "plt.ylabel('Count')\n",
    "plt.show()"
   ]
  },
  {
   "cell_type": "code",
   "execution_count": 65,
   "id": "dc0967dd-d535-46f7-980b-a3245b87d2b1",
   "metadata": {},
   "outputs": [
    {
     "data": {
      "image/png": "[encoded data removed]",
      "text/plain": [
       "<Figure size 1200x600 with 1 Axes>"
      ]
     },
     "metadata": {},
     "output_type": "display_data"
    }
   ],
   "source": [
    "# Group by 'Primary Cuisine' and calculate mean rating\n",
    "cuisine_rating = df.groupby('Primary Cuisine')['Aggregate rating'].mean().sort_values(ascending=False).head(10)\n",
    "\n",
    "# Bar plot\n",
    "plt.figure(figsize=(12,6))\n",
    "sns.barplot(x=cuisine_rating.values, y=cuisine_rating.index, palette='viridis')\n",
    "plt.title('Top 10 Cuisines by Average Rating')\n",
    "plt.xlabel('Average Rating')\n",
    "plt.ylabel('Cuisine')\n",
    "plt.show()"
   ]
  },
  {
   "cell_type": "code",
   "execution_count": 67,
   "id": "da83d337-e800-4229-891f-73b2ec3ddb5a",
   "metadata": {},
   "outputs": [
    {
     "data": {
      "image/png": "[encoded data removed]",
      "text/plain": [
       "<Figure size 1000x600 with 1 Axes>"
      ]
     },
     "metadata": {},
     "output_type": "display_data"
    }
   ],
   "source": [
    "# Boxplot of ratings across different price ranges\n",
    "plt.figure(figsize=(10,6))\n",
    "sns.boxplot(x='Price range', y='Aggregate rating', data=df)\n",
    "plt.title('Restaurant Ratings by Price Range')\n",
    "plt.xlabel('Price Range')\n",
    "plt.ylabel('Aggregate Rating')\n",
    "plt.show()"
   ]
  },
  {
   "cell_type": "code",
   "execution_count": 72,
   "id": "0a13508e-78a5-498c-ba9b-de52d9a6f89e",
   "metadata": {},
   "outputs": [
    {
     "data": {
      "image/png": "[encoded data removed]",
      "text/plain": [
       "<Figure size 800x600 with 1 Axes>"
      ]
     },
     "metadata": {},
     "output_type": "display_data"
    },
    {
     "data": {
      "image/png": "[encoded data removed]",
      "text/plain": [
       "<Figure size 800x600 with 1 Axes>"
      ]
     },
     "metadata": {},
     "output_type": "display_data"
    }
   ],
   "source": [
    "# Ratings for restaurants with and without online delivery\n",
    "plt.figure(figsize=(8,6))\n",
    "sns.boxplot(x='Has Online delivery', y='Aggregate rating', data=df)\n",
    "plt.title('Ratings Based on Online Delivery Availability')\n",
    "plt.xlabel('Has Online Delivery')\n",
    "plt.ylabel('Aggregate Rating')\n",
    "plt.show()\n",
    "\n",
    "# Ratings for restaurants with and without table booking\n",
    "plt.figure(figsize=(8,6))\n",
    "sns.boxplot(x='Has Table booking', y='Aggregate rating', data=df)\n",
    "plt.title('Ratings Based on Table Booking Availability')\n",
    "plt.xlabel('Has Table Booking')\n",
    "plt.ylabel('Aggregate Rating')\n",
    "plt.show()"
   ]
  },
  {
   "cell_type": "code",
   "execution_count": 74,
   "id": "9f9e1683-f1cb-4f58-9af9-caa71fb366a7",
   "metadata": {},
   "outputs": [
    {
     "data": {
      "image/png": "[encoded data removed]",
      "text/plain": [
       "<Figure size 1200x800 with 2 Axes>"
      ]
     },
     "metadata": {},
     "output_type": "display_data"
    }
   ],
   "source": [
    "plt.figure(figsize=(12,8))\n",
    "corr = df[['Aggregate rating', 'Price range', 'Capped_Cost', 'Capped_Votes']].corr()\n",
    "sns.heatmap(corr, annot=True, cmap='coolwarm')\n",
    "plt.title('Correlation between Numerical Features')\n",
    "plt.show()"
   ]
  },
  {
   "cell_type": "code",
   "execution_count": 77,
   "id": "33eb2532-88e9-41b8-b4fa-db945e1aa844",
   "metadata": {},
   "outputs": [
    {
     "data": {
      "text/plain": [
       "Index(['Restaurant ID', 'Restaurant Name', 'Country Code', 'City', 'Address',\n",
       "       'Locality', 'Locality Verbose', 'Longitude', 'Latitude', 'Cuisines',\n",
       "       'Average Cost for two', 'Currency', 'Has Table booking',\n",
       "       'Has Online delivery', 'Is delivering now', 'Price range',\n",
       "       'Aggregate rating', 'Rating color', 'Rating text', 'Votes',\n",
       "       'Primary Cuisine', 'Cuisine Grouped', 'Rating Category', 'Capped_Cost',\n",
       "       'Capped_Votes', 'Rating_Level', 'Price_Level', 'City_grouped',\n",
       "       'Currency_grouped', 'Cuisines_grouped'],\n",
       "      dtype='object')"
      ]
     },
     "execution_count": 77,
     "metadata": {},
     "output_type": "execute_result"
    }
   ],
   "source": [
    "df.columns"
   ]
  },
  {
   "cell_type": "code",
   "execution_count": null,
   "id": "46827c5c-759a-47b3-8196-05d88fe17dda",
   "metadata": {},
   "outputs": [],
   "source": []
  }
 ],
 "metadata": {
  "kernelspec": {
   "display_name": "Python (myenv)",
   "language": "python",
   "name": "myenv"
  },
  "language_info": {
   "codemirror_mode": {
    "name": "ipython",
    "version": 3
   },
   "file_extension": ".py",
   "mimetype": "text/x-python",
   "name": "python",
   "nbconvert_exporter": "python",
   "pygments_lexer": "ipython3",
   "version": "3.13.3"
  }
 },
 "nbformat": 4,
 "nbformat_minor": 5
}

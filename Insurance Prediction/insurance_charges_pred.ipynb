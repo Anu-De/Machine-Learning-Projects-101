{
 "cells": [
  {
   "cell_type": "markdown",
   "id": "6fb74cac-ce07-4777-8c30-60356923302e",
   "metadata": {},
   "source": [
    ">Liberaries"
   ]
  },
  {
   "cell_type": "code",
   "execution_count": 2,
   "id": "0be2a971-dc71-4acf-87ee-60dcc7183e94",
   "metadata": {},
   "outputs": [],
   "source": [
    "import pandas as pd\n",
    "import numpy as np\n",
    "import seaborn as sns\n",
    "import matplotlib.pyplot as plt\n",
    "from sklearn.preprocessing import PolynomialFeatures\n",
    "from sklearn.linear_model import LinearRegression\n",
    "from sklearn.preprocessing import StandardScaler, OneHotEncoder\n",
    "from sklearn.compose import ColumnTransformer"
   ]
  },
  {
   "cell_type": "code",
   "execution_count": 50,
   "id": "b0d22109-9eb8-4b0e-b443-7dac0de85372",
   "metadata": {},
   "outputs": [],
   "source": [
    "import warnings as warn\n",
    "warn.filterwarnings(\"ignore\")"
   ]
  },
  {
   "cell_type": "markdown",
   "id": "cfb95fa7-96d8-4ab0-b20f-769c19b33e5a",
   "metadata": {},
   "source": [
    ">Data Set"
   ]
  },
  {
   "cell_type": "code",
   "execution_count": 3,
   "id": "ebfa5f24-cca3-499c-9034-f24291052fbd",
   "metadata": {},
   "outputs": [],
   "source": [
    "df = pd.read_csv(\"./data/insurance.csv\")"
   ]
  },
  {
   "cell_type": "markdown",
   "id": "0ba07dc0-accf-41b0-a1dd-f7f6e7d524e5",
   "metadata": {},
   "source": [
    ">Data Exploration"
   ]
  },
  {
   "cell_type": "code",
   "execution_count": 4,
   "id": "453553c2-96ac-42ea-b928-21a582d39cc3",
   "metadata": {},
   "outputs": [
    {
     "data": {
      "text/html": [
       "<div>\n",
       "<style scoped>\n",
       "    .dataframe tbody tr th:only-of-type {\n",
       "        vertical-align: middle;\n",
       "    }\n",
       "\n",
       "    .dataframe tbody tr th {\n",
       "        vertical-align: top;\n",
       "    }\n",
       "\n",
       "    .dataframe thead th {\n",
       "        text-align: right;\n",
       "    }\n",
       "</style>\n",
       "<table border=\"1\" class=\"dataframe\">\n",
       "  <thead>\n",
       "    <tr style=\"text-align: right;\">\n",
       "      <th></th>\n",
       "      <th>age</th>\n",
       "      <th>sex</th>\n",
       "      <th>bmi</th>\n",
       "      <th>children</th>\n",
       "      <th>smoker</th>\n",
       "      <th>region</th>\n",
       "      <th>charges</th>\n",
       "    </tr>\n",
       "  </thead>\n",
       "  <tbody>\n",
       "    <tr>\n",
       "      <th>0</th>\n",
       "      <td>19</td>\n",
       "      <td>female</td>\n",
       "      <td>27.900</td>\n",
       "      <td>0</td>\n",
       "      <td>yes</td>\n",
       "      <td>southwest</td>\n",
       "      <td>16884.92400</td>\n",
       "    </tr>\n",
       "    <tr>\n",
       "      <th>1</th>\n",
       "      <td>18</td>\n",
       "      <td>male</td>\n",
       "      <td>33.770</td>\n",
       "      <td>1</td>\n",
       "      <td>no</td>\n",
       "      <td>southeast</td>\n",
       "      <td>1725.55230</td>\n",
       "    </tr>\n",
       "    <tr>\n",
       "      <th>2</th>\n",
       "      <td>28</td>\n",
       "      <td>male</td>\n",
       "      <td>33.000</td>\n",
       "      <td>3</td>\n",
       "      <td>no</td>\n",
       "      <td>southeast</td>\n",
       "      <td>4449.46200</td>\n",
       "    </tr>\n",
       "    <tr>\n",
       "      <th>3</th>\n",
       "      <td>33</td>\n",
       "      <td>male</td>\n",
       "      <td>22.705</td>\n",
       "      <td>0</td>\n",
       "      <td>no</td>\n",
       "      <td>northwest</td>\n",
       "      <td>21984.47061</td>\n",
       "    </tr>\n",
       "    <tr>\n",
       "      <th>4</th>\n",
       "      <td>32</td>\n",
       "      <td>male</td>\n",
       "      <td>28.880</td>\n",
       "      <td>0</td>\n",
       "      <td>no</td>\n",
       "      <td>northwest</td>\n",
       "      <td>3866.85520</td>\n",
       "    </tr>\n",
       "  </tbody>\n",
       "</table>\n",
       "</div>"
      ],
      "text/plain": [
       "   age     sex     bmi  children smoker     region      charges\n",
       "0   19  female  27.900         0    yes  southwest  16884.92400\n",
       "1   18    male  33.770         1     no  southeast   1725.55230\n",
       "2   28    male  33.000         3     no  southeast   4449.46200\n",
       "3   33    male  22.705         0     no  northwest  21984.47061\n",
       "4   32    male  28.880         0     no  northwest   3866.85520"
      ]
     },
     "execution_count": 4,
     "metadata": {},
     "output_type": "execute_result"
    }
   ],
   "source": [
    "df.head()"
   ]
  },
  {
   "cell_type": "code",
   "execution_count": 5,
   "id": "d896a654-39c8-4c4f-aca8-b236242b0fb1",
   "metadata": {},
   "outputs": [
    {
     "data": {
      "text/plain": [
       "(1338, 7)"
      ]
     },
     "execution_count": 5,
     "metadata": {},
     "output_type": "execute_result"
    }
   ],
   "source": [
    "df.shape"
   ]
  },
  {
   "cell_type": "code",
   "execution_count": 6,
   "id": "97296d1b-6a88-4ab5-ae62-fa7ee16ee8af",
   "metadata": {},
   "outputs": [
    {
     "data": {
      "text/plain": [
       "age         0\n",
       "sex         0\n",
       "bmi         0\n",
       "children    0\n",
       "smoker      0\n",
       "region      0\n",
       "charges     0\n",
       "dtype: int64"
      ]
     },
     "execution_count": 6,
     "metadata": {},
     "output_type": "execute_result"
    }
   ],
   "source": [
    "df.isnull().sum()"
   ]
  },
  {
   "cell_type": "code",
   "execution_count": 7,
   "id": "62d4dc36-8af2-4a84-b2f1-c6511f3a1063",
   "metadata": {},
   "outputs": [
    {
     "data": {
      "text/plain": [
       "age           47\n",
       "sex            2\n",
       "bmi          548\n",
       "children       6\n",
       "smoker         2\n",
       "region         4\n",
       "charges     1337\n",
       "dtype: int64"
      ]
     },
     "execution_count": 7,
     "metadata": {},
     "output_type": "execute_result"
    }
   ],
   "source": [
    "df.nunique()"
   ]
  },
  {
   "cell_type": "code",
   "execution_count": 8,
   "id": "a1f139cf-e69b-4502-8061-ac198c4c5b8c",
   "metadata": {},
   "outputs": [
    {
     "data": {
      "text/plain": [
       "charges\n",
       "1639.56310     2\n",
       "2221.56445     1\n",
       "19798.05455    1\n",
       "13063.88300    1\n",
       "13555.00490    1\n",
       "              ..\n",
       "1149.39590     1\n",
       "37079.37200    1\n",
       "4738.26820     1\n",
       "2897.32350     1\n",
       "4762.32900     1\n",
       "Name: count, Length: 1337, dtype: int64"
      ]
     },
     "execution_count": 8,
     "metadata": {},
     "output_type": "execute_result"
    }
   ],
   "source": [
    "df['charges'].value_counts()"
   ]
  },
  {
   "cell_type": "code",
   "execution_count": 9,
   "id": "bdf5569d-0261-41cb-9012-410a8711a8d3",
   "metadata": {},
   "outputs": [],
   "source": [
    "num_features = ['age', 'bmi', 'charges', 'children']"
   ]
  },
  {
   "cell_type": "code",
   "execution_count": 10,
   "id": "ed9e0f48-bf9e-49a1-97b9-30151248ad5e",
   "metadata": {},
   "outputs": [
    {
     "name": "stdout",
     "output_type": "stream",
     "text": [
      "<class 'pandas.core.frame.DataFrame'>\n",
      "RangeIndex: 1338 entries, 0 to 1337\n",
      "Data columns (total 7 columns):\n",
      " #   Column    Non-Null Count  Dtype  \n",
      "---  ------    --------------  -----  \n",
      " 0   age       1338 non-null   int64  \n",
      " 1   sex       1338 non-null   object \n",
      " 2   bmi       1338 non-null   float64\n",
      " 3   children  1338 non-null   int64  \n",
      " 4   smoker    1338 non-null   object \n",
      " 5   region    1338 non-null   object \n",
      " 6   charges   1338 non-null   float64\n",
      "dtypes: float64(2), int64(2), object(3)\n",
      "memory usage: 73.3+ KB\n"
     ]
    }
   ],
   "source": [
    "df.info()"
   ]
  },
  {
   "cell_type": "code",
   "execution_count": 11,
   "id": "d89f4794-5984-4017-b409-8b6ecee3782e",
   "metadata": {
    "scrolled": true
   },
   "outputs": [
    {
     "data": {
      "text/html": [
       "<div>\n",
       "<style scoped>\n",
       "    .dataframe tbody tr th:only-of-type {\n",
       "        vertical-align: middle;\n",
       "    }\n",
       "\n",
       "    .dataframe tbody tr th {\n",
       "        vertical-align: top;\n",
       "    }\n",
       "\n",
       "    .dataframe thead th {\n",
       "        text-align: right;\n",
       "    }\n",
       "</style>\n",
       "<table border=\"1\" class=\"dataframe\">\n",
       "  <thead>\n",
       "    <tr style=\"text-align: right;\">\n",
       "      <th></th>\n",
       "      <th>age</th>\n",
       "      <th>bmi</th>\n",
       "      <th>children</th>\n",
       "      <th>charges</th>\n",
       "    </tr>\n",
       "  </thead>\n",
       "  <tbody>\n",
       "    <tr>\n",
       "      <th>count</th>\n",
       "      <td>1338.000000</td>\n",
       "      <td>1338.000000</td>\n",
       "      <td>1338.000000</td>\n",
       "      <td>1338.000000</td>\n",
       "    </tr>\n",
       "    <tr>\n",
       "      <th>mean</th>\n",
       "      <td>39.207025</td>\n",
       "      <td>30.663397</td>\n",
       "      <td>1.094918</td>\n",
       "      <td>13270.422265</td>\n",
       "    </tr>\n",
       "    <tr>\n",
       "      <th>std</th>\n",
       "      <td>14.049960</td>\n",
       "      <td>6.098187</td>\n",
       "      <td>1.205493</td>\n",
       "      <td>12110.011237</td>\n",
       "    </tr>\n",
       "    <tr>\n",
       "      <th>min</th>\n",
       "      <td>18.000000</td>\n",
       "      <td>15.960000</td>\n",
       "      <td>0.000000</td>\n",
       "      <td>1121.873900</td>\n",
       "    </tr>\n",
       "    <tr>\n",
       "      <th>25%</th>\n",
       "      <td>27.000000</td>\n",
       "      <td>26.296250</td>\n",
       "      <td>0.000000</td>\n",
       "      <td>4740.287150</td>\n",
       "    </tr>\n",
       "    <tr>\n",
       "      <th>50%</th>\n",
       "      <td>39.000000</td>\n",
       "      <td>30.400000</td>\n",
       "      <td>1.000000</td>\n",
       "      <td>9382.033000</td>\n",
       "    </tr>\n",
       "    <tr>\n",
       "      <th>75%</th>\n",
       "      <td>51.000000</td>\n",
       "      <td>34.693750</td>\n",
       "      <td>2.000000</td>\n",
       "      <td>16639.912515</td>\n",
       "    </tr>\n",
       "    <tr>\n",
       "      <th>max</th>\n",
       "      <td>64.000000</td>\n",
       "      <td>53.130000</td>\n",
       "      <td>5.000000</td>\n",
       "      <td>63770.428010</td>\n",
       "    </tr>\n",
       "  </tbody>\n",
       "</table>\n",
       "</div>"
      ],
      "text/plain": [
       "               age          bmi     children       charges\n",
       "count  1338.000000  1338.000000  1338.000000   1338.000000\n",
       "mean     39.207025    30.663397     1.094918  13270.422265\n",
       "std      14.049960     6.098187     1.205493  12110.011237\n",
       "min      18.000000    15.960000     0.000000   1121.873900\n",
       "25%      27.000000    26.296250     0.000000   4740.287150\n",
       "50%      39.000000    30.400000     1.000000   9382.033000\n",
       "75%      51.000000    34.693750     2.000000  16639.912515\n",
       "max      64.000000    53.130000     5.000000  63770.428010"
      ]
     },
     "execution_count": 11,
     "metadata": {},
     "output_type": "execute_result"
    }
   ],
   "source": [
    "df.describe()"
   ]
  },
  {
   "cell_type": "markdown",
   "id": "c1a8ca6a-447d-4ed3-b16e-ee467fd30d96",
   "metadata": {},
   "source": [
    ">PLots"
   ]
  },
  {
   "cell_type": "code",
   "execution_count": 12,
   "id": "dd5148a6-ab6f-4c8a-8f24-e8be7e2f25b7",
   "metadata": {},
   "outputs": [
    {
     "data": {
      "text/html": [
       "<div>\n",
       "<style scoped>\n",
       "    .dataframe tbody tr th:only-of-type {\n",
       "        vertical-align: middle;\n",
       "    }\n",
       "\n",
       "    .dataframe tbody tr th {\n",
       "        vertical-align: top;\n",
       "    }\n",
       "\n",
       "    .dataframe thead th {\n",
       "        text-align: right;\n",
       "    }\n",
       "</style>\n",
       "<table border=\"1\" class=\"dataframe\">\n",
       "  <thead>\n",
       "    <tr style=\"text-align: right;\">\n",
       "      <th></th>\n",
       "      <th>age</th>\n",
       "      <th>bmi</th>\n",
       "      <th>charges</th>\n",
       "      <th>children</th>\n",
       "    </tr>\n",
       "  </thead>\n",
       "  <tbody>\n",
       "    <tr>\n",
       "      <th>age</th>\n",
       "      <td>1.000000</td>\n",
       "      <td>0.109272</td>\n",
       "      <td>0.299008</td>\n",
       "      <td>0.042469</td>\n",
       "    </tr>\n",
       "    <tr>\n",
       "      <th>bmi</th>\n",
       "      <td>0.109272</td>\n",
       "      <td>1.000000</td>\n",
       "      <td>0.198341</td>\n",
       "      <td>0.012759</td>\n",
       "    </tr>\n",
       "    <tr>\n",
       "      <th>charges</th>\n",
       "      <td>0.299008</td>\n",
       "      <td>0.198341</td>\n",
       "      <td>1.000000</td>\n",
       "      <td>0.067998</td>\n",
       "    </tr>\n",
       "    <tr>\n",
       "      <th>children</th>\n",
       "      <td>0.042469</td>\n",
       "      <td>0.012759</td>\n",
       "      <td>0.067998</td>\n",
       "      <td>1.000000</td>\n",
       "    </tr>\n",
       "  </tbody>\n",
       "</table>\n",
       "</div>"
      ],
      "text/plain": [
       "               age       bmi   charges  children\n",
       "age       1.000000  0.109272  0.299008  0.042469\n",
       "bmi       0.109272  1.000000  0.198341  0.012759\n",
       "charges   0.299008  0.198341  1.000000  0.067998\n",
       "children  0.042469  0.012759  0.067998  1.000000"
      ]
     },
     "execution_count": 12,
     "metadata": {},
     "output_type": "execute_result"
    }
   ],
   "source": [
    "df[num_features].corr()"
   ]
  },
  {
   "cell_type": "code",
   "execution_count": 13,
   "id": "d50015e3-d41c-4032-922f-eda70e6a8744",
   "metadata": {
    "scrolled": true
   },
   "outputs": [
    {
     "data": {
      "image/png": "[encoded data removed]",
      "text/plain": [
       "<Figure size 800x400 with 1 Axes>"
      ]
     },
     "metadata": {},
     "output_type": "display_data"
    },
    {
     "data": {
      "image/png": "[encoded data removed]",
      "text/plain": [
       "<Figure size 800x400 with 1 Axes>"
      ]
     },
     "metadata": {},
     "output_type": "display_data"
    },
    {
     "data": {
      "image/png": "[encoded data removed]",
      "text/plain": [
       "<Figure size 800x400 with 1 Axes>"
      ]
     },
     "metadata": {},
     "output_type": "display_data"
    },
    {
     "data": {
      "image/png": "[encoded data removed]",
      "text/plain": [
       "<Figure size 800x400 with 1 Axes>"
      ]
     },
     "metadata": {},
     "output_type": "display_data"
    },
    {
     "data": {
      "image/png": "[encoded data removed]",
      "text/plain": [
       "<Figure size 800x400 with 1 Axes>"
      ]
     },
     "metadata": {},
     "output_type": "display_data"
    },
    {
     "data": {
      "image/png": "[encoded data removed]",
      "text/plain": [
       "<Figure size 800x400 with 1 Axes>"
      ]
     },
     "metadata": {},
     "output_type": "display_data"
    },
    {
     "data": {
      "image/png": "[encoded data removed]",
      "text/plain": [
       "<Figure size 800x400 with 1 Axes>"
      ]
     },
     "metadata": {},
     "output_type": "display_data"
    }
   ],
   "source": [
    "features = ['age', 'sex', 'bmi', 'children', 'smoker', 'region', 'charges']\n",
    "\n",
    "# Plot boxplots for each feature\n",
    "for feature in features:\n",
    "    plt.figure(figsize=(8, 4))\n",
    "    sns.boxplot(x=df[feature])\n",
    "    plt.title(f'Boxplot of {feature}')\n",
    "    plt.show()\n"
   ]
  },
  {
   "cell_type": "code",
   "execution_count": 14,
   "id": "99334943-b4e8-421c-b635-6ab313020ef3",
   "metadata": {},
   "outputs": [],
   "source": [
    "for feature in ['bmi']:\n",
    "    lower_bound = df[feature].quantile(0.01)\n",
    "    upper_bound = df[feature].quantile(0.99)\n",
    "    df = df[(df[feature] >= lower_bound) & (df[feature] <= upper_bound)]"
   ]
  },
  {
   "cell_type": "code",
   "execution_count": 15,
   "id": "9c78e157-d56c-4d97-bace-e86a85422151",
   "metadata": {
    "scrolled": true
   },
   "outputs": [
    {
     "data": {
      "image/png": "[encoded data removed]",
      "text/plain": [
       "<Figure size 800x400 with 1 Axes>"
      ]
     },
     "metadata": {},
     "output_type": "display_data"
    },
    {
     "data": {
      "image/png": "[encoded data removed]",
      "text/plain": [
       "<Figure size 800x400 with 1 Axes>"
      ]
     },
     "metadata": {},
     "output_type": "display_data"
    },
    {
     "data": {
      "image/png": "[encoded data removed]",
      "text/plain": [
       "<Figure size 800x400 with 1 Axes>"
      ]
     },
     "metadata": {},
     "output_type": "display_data"
    },
    {
     "data": {
      "image/png": "[encoded data removed]",
      "text/plain": [
       "<Figure size 800x400 with 1 Axes>"
      ]
     },
     "metadata": {},
     "output_type": "display_data"
    }
   ],
   "source": [
    "\n",
    "for feature in num_features:\n",
    "    plt.figure(figsize=(8, 4))\n",
    "    sns.histplot(df[feature], kde=True)\n",
    "    plt.title(f'Distribution of {feature}')\n",
    "    plt.show()"
   ]
  },
  {
   "cell_type": "markdown",
   "id": "cfd34b46-cbfc-470a-b1bb-95e7b44bd227",
   "metadata": {},
   "source": [
    ">Processing and Transformation"
   ]
  },
  {
   "cell_type": "code",
   "execution_count": 16,
   "id": "32563d29-b09d-44cd-9acd-251b4c72c5ea",
   "metadata": {
    "scrolled": true
   },
   "outputs": [
    {
     "name": "stdout",
     "output_type": "stream",
     "text": [
      "Skewness of features: age\n",
      "0.04480790970778466\n",
      "Skewness of features: bmi\n",
      "0.18381570091553498\n",
      "Skewness of features: charges\n",
      "1.4905300534494292\n",
      "Skewness of features: children\n",
      "0.9359033121886735\n"
     ]
    }
   ],
   "source": [
    "for feature in num_features:\n",
    "    # Calculate skewness\n",
    "    skewness = df[feature].skew()\n",
    "    print('Skewness of features:',feature)\n",
    "    print(skewness)\n",
    "\n"
   ]
  },
  {
   "cell_type": "code",
   "execution_count": 17,
   "id": "1c712029-1643-4f12-b742-ae5b00b9b2da",
   "metadata": {
    "scrolled": true
   },
   "outputs": [],
   "source": [
    "df['charges_log'] = np.log(df['charges'])\n",
    "df.drop('charges', axis=1, inplace=True)"
   ]
  },
  {
   "cell_type": "code",
   "execution_count": 18,
   "id": "9a5b1be0-6798-4950-978e-c7c7d8e99670",
   "metadata": {},
   "outputs": [],
   "source": [
    "# Map binary features to 0/1\n",
    "df['sex'] = df['sex'].map({'male': 0, 'female': 1})\n",
    "df['smoker'] = df['smoker'].map({'no': 0, 'yes': 1})\n",
    "\n",
    "# Define feature lists\n",
    "num_features = ['age', 'bmi', 'children']\n",
    "binary_features = ['sex', 'smoker']\n",
    "region_feature = ['region']\n",
    "\n",
    "# Create the preprocessor\n",
    "preprocessor = ColumnTransformer(\n",
    "    transformers=[\n",
    "        ('num', StandardScaler(), num_features),\n",
    "        ('bin', 'passthrough', binary_features),\n",
    "        ('region', OneHotEncoder(handle_unknown='ignore'), region_feature)\n",
    "    ])\n",
    "\n",
    "# Fit and transform the features\n",
    "X_processed = preprocessor.fit_transform(df)\n",
    "\n",
    "# Get feature names for the processed DataFrame\n",
    "feature_names = (\n",
    "    num_features +\n",
    "    binary_features +\n",
    "    list(preprocessor.named_transformers_['region'].get_feature_names_out(region_feature))\n",
    ")\n",
    "\n",
    "# Convert processed features to DataFrame\n",
    "X = pd.DataFrame(X_processed, columns=feature_names, index=df.index)\n",
    "\n",
    "# Add the target variable (log charges)\n",
    "y = df['charges_log']"
   ]
  },
  {
   "cell_type": "code",
   "execution_count": 52,
   "id": "187d9cca-599c-4f41-815d-e431c82ec472",
   "metadata": {},
   "outputs": [
    {
     "data": {
      "text/html": [
       "<div>\n",
       "<style scoped>\n",
       "    .dataframe tbody tr th:only-of-type {\n",
       "        vertical-align: middle;\n",
       "    }\n",
       "\n",
       "    .dataframe tbody tr th {\n",
       "        vertical-align: top;\n",
       "    }\n",
       "\n",
       "    .dataframe thead th {\n",
       "        text-align: right;\n",
       "    }\n",
       "</style>\n",
       "<table border=\"1\" class=\"dataframe\">\n",
       "  <thead>\n",
       "    <tr style=\"text-align: right;\">\n",
       "      <th></th>\n",
       "      <th>age</th>\n",
       "      <th>bmi</th>\n",
       "      <th>children</th>\n",
       "      <th>sex</th>\n",
       "      <th>smoker</th>\n",
       "      <th>region_northeast</th>\n",
       "      <th>region_northwest</th>\n",
       "      <th>region_southeast</th>\n",
       "      <th>region_southwest</th>\n",
       "    </tr>\n",
       "  </thead>\n",
       "  <tbody>\n",
       "    <tr>\n",
       "      <th>0</th>\n",
       "      <td>-1.448940</td>\n",
       "      <td>-0.475560</td>\n",
       "      <td>-0.904741</td>\n",
       "      <td>1.0</td>\n",
       "      <td>1.0</td>\n",
       "      <td>0.0</td>\n",
       "      <td>0.0</td>\n",
       "      <td>0.0</td>\n",
       "      <td>1.0</td>\n",
       "    </tr>\n",
       "    <tr>\n",
       "      <th>1</th>\n",
       "      <td>-1.520163</td>\n",
       "      <td>0.551640</td>\n",
       "      <td>-0.075922</td>\n",
       "      <td>0.0</td>\n",
       "      <td>0.0</td>\n",
       "      <td>0.0</td>\n",
       "      <td>0.0</td>\n",
       "      <td>1.0</td>\n",
       "      <td>0.0</td>\n",
       "    </tr>\n",
       "    <tr>\n",
       "      <th>2</th>\n",
       "      <td>-0.807927</td>\n",
       "      <td>0.416897</td>\n",
       "      <td>1.581715</td>\n",
       "      <td>0.0</td>\n",
       "      <td>0.0</td>\n",
       "      <td>0.0</td>\n",
       "      <td>0.0</td>\n",
       "      <td>1.0</td>\n",
       "      <td>0.0</td>\n",
       "    </tr>\n",
       "    <tr>\n",
       "      <th>3</th>\n",
       "      <td>-0.451808</td>\n",
       "      <td>-1.384641</td>\n",
       "      <td>-0.904741</td>\n",
       "      <td>0.0</td>\n",
       "      <td>0.0</td>\n",
       "      <td>0.0</td>\n",
       "      <td>1.0</td>\n",
       "      <td>0.0</td>\n",
       "      <td>0.0</td>\n",
       "    </tr>\n",
       "    <tr>\n",
       "      <th>4</th>\n",
       "      <td>-0.523032</td>\n",
       "      <td>-0.304069</td>\n",
       "      <td>-0.904741</td>\n",
       "      <td>0.0</td>\n",
       "      <td>0.0</td>\n",
       "      <td>0.0</td>\n",
       "      <td>1.0</td>\n",
       "      <td>0.0</td>\n",
       "      <td>0.0</td>\n",
       "    </tr>\n",
       "    <tr>\n",
       "      <th>...</th>\n",
       "      <td>...</td>\n",
       "      <td>...</td>\n",
       "      <td>...</td>\n",
       "      <td>...</td>\n",
       "      <td>...</td>\n",
       "      <td>...</td>\n",
       "      <td>...</td>\n",
       "      <td>...</td>\n",
       "      <td>...</td>\n",
       "    </tr>\n",
       "    <tr>\n",
       "      <th>1333</th>\n",
       "      <td>0.758994</td>\n",
       "      <td>0.061664</td>\n",
       "      <td>1.581715</td>\n",
       "      <td>0.0</td>\n",
       "      <td>0.0</td>\n",
       "      <td>0.0</td>\n",
       "      <td>1.0</td>\n",
       "      <td>0.0</td>\n",
       "      <td>0.0</td>\n",
       "    </tr>\n",
       "    <tr>\n",
       "      <th>1334</th>\n",
       "      <td>-1.520163</td>\n",
       "      <td>0.227906</td>\n",
       "      <td>-0.904741</td>\n",
       "      <td>1.0</td>\n",
       "      <td>0.0</td>\n",
       "      <td>1.0</td>\n",
       "      <td>0.0</td>\n",
       "      <td>0.0</td>\n",
       "      <td>0.0</td>\n",
       "    </tr>\n",
       "    <tr>\n",
       "      <th>1335</th>\n",
       "      <td>-1.520163</td>\n",
       "      <td>1.090614</td>\n",
       "      <td>-0.904741</td>\n",
       "      <td>1.0</td>\n",
       "      <td>0.0</td>\n",
       "      <td>0.0</td>\n",
       "      <td>0.0</td>\n",
       "      <td>1.0</td>\n",
       "      <td>0.0</td>\n",
       "    </tr>\n",
       "    <tr>\n",
       "      <th>1336</th>\n",
       "      <td>-1.306492</td>\n",
       "      <td>-0.843043</td>\n",
       "      <td>-0.904741</td>\n",
       "      <td>1.0</td>\n",
       "      <td>0.0</td>\n",
       "      <td>0.0</td>\n",
       "      <td>0.0</td>\n",
       "      <td>0.0</td>\n",
       "      <td>1.0</td>\n",
       "    </tr>\n",
       "    <tr>\n",
       "      <th>1337</th>\n",
       "      <td>1.542455</td>\n",
       "      <td>-0.270820</td>\n",
       "      <td>-0.904741</td>\n",
       "      <td>1.0</td>\n",
       "      <td>1.0</td>\n",
       "      <td>0.0</td>\n",
       "      <td>1.0</td>\n",
       "      <td>0.0</td>\n",
       "      <td>0.0</td>\n",
       "    </tr>\n",
       "  </tbody>\n",
       "</table>\n",
       "<p>1310 rows × 9 columns</p>\n",
       "</div>"
      ],
      "text/plain": [
       "           age       bmi  children  sex  smoker  region_northeast  \\\n",
       "0    -1.448940 -0.475560 -0.904741  1.0     1.0               0.0   \n",
       "1    -1.520163  0.551640 -0.075922  0.0     0.0               0.0   \n",
       "2    -0.807927  0.416897  1.581715  0.0     0.0               0.0   \n",
       "3    -0.451808 -1.384641 -0.904741  0.0     0.0               0.0   \n",
       "4    -0.523032 -0.304069 -0.904741  0.0     0.0               0.0   \n",
       "...        ...       ...       ...  ...     ...               ...   \n",
       "1333  0.758994  0.061664  1.581715  0.0     0.0               0.0   \n",
       "1334 -1.520163  0.227906 -0.904741  1.0     0.0               1.0   \n",
       "1335 -1.520163  1.090614 -0.904741  1.0     0.0               0.0   \n",
       "1336 -1.306492 -0.843043 -0.904741  1.0     0.0               0.0   \n",
       "1337  1.542455 -0.270820 -0.904741  1.0     1.0               0.0   \n",
       "\n",
       "      region_northwest  region_southeast  region_southwest  \n",
       "0                  0.0               0.0               1.0  \n",
       "1                  0.0               1.0               0.0  \n",
       "2                  0.0               1.0               0.0  \n",
       "3                  1.0               0.0               0.0  \n",
       "4                  1.0               0.0               0.0  \n",
       "...                ...               ...               ...  \n",
       "1333               1.0               0.0               0.0  \n",
       "1334               0.0               0.0               0.0  \n",
       "1335               0.0               1.0               0.0  \n",
       "1336               0.0               0.0               1.0  \n",
       "1337               1.0               0.0               0.0  \n",
       "\n",
       "[1310 rows x 9 columns]"
      ]
     },
     "execution_count": 52,
     "metadata": {},
     "output_type": "execute_result"
    }
   ],
   "source": [
    "X"
   ]
  },
  {
   "cell_type": "markdown",
   "id": "7716797d-6138-42c8-9215-533d50607cd3",
   "metadata": {},
   "source": [
    ">Model Building"
   ]
  },
  {
   "cell_type": "markdown",
   "id": "9b549f01-996f-4faa-99af-a177d3be98bb",
   "metadata": {},
   "source": [
    ">>Train AND TEST SPLIT"
   ]
  },
  {
   "cell_type": "markdown",
   "id": "80a73666-5e9e-4fac-92f3-df3d50954fc3",
   "metadata": {},
   "source": [
    ">>>Linear Regression"
   ]
  },
  {
   "cell_type": "code",
   "execution_count": 19,
   "id": "38e42074-f7a8-4175-be2c-f32bbe51f555",
   "metadata": {
    "jupyter": {
     "source_hidden": true
    }
   },
   "outputs": [
    {
     "name": "stdout",
     "output_type": "stream",
     "text": [
      "   Train MSE  Train MAE  Train RMSE  Train R2  Validation MSE  Validation MAE  \\\n",
      "0    0.19716   0.280749    0.443981   0.76439        0.200704        0.282441   \n",
      "\n",
      "   Validation RMSE  Validation R2  \n",
      "0         0.447293        0.75978  \n"
     ]
    }
   ],
   "source": [
    "from sklearn.model_selection import KFold\n",
    "from sklearn.metrics import mean_squared_error, mean_absolute_error, r2_score\n",
    "import numpy as np\n",
    "k = 5\n",
    "kf = KFold(n_splits=k, shuffle=True, random_state=42)\n",
    "\n",
    "train_scores = []\n",
    "t_val_scores = []\n",
    "t_mae_scores = []\n",
    "t_rmse_scores = []\n",
    "t_r2_score = []\n",
    "t2_val_scores = []\n",
    "t2_mae_scores = []\n",
    "t2_rmse_scores = []\n",
    "t2_r2_score = []\n",
    "\n",
    "for train_index, test_index in kf.split(X):\n",
    "    X_train, X_test = X.iloc[train_index], X.iloc[test_index]\n",
    "    y_train, y_test = y.iloc[train_index], y.iloc[test_index]\n",
    "    \n",
    "    # Initialize your regression model\n",
    "    model = LinearRegression()\n",
    "    \n",
    "    # Train the model\n",
    "    model.fit(X_train, y_train)\n",
    "    \n",
    "    # Predictions\n",
    "    y_train_pred = model.predict(X_train)\n",
    "    y_test_pred = model.predict(X_test)\n",
    "    \n",
    "    # Evaluate\n",
    "    train_mse = mean_squared_error(y_train, y_train_pred)\n",
    "    test_mse = mean_squared_error(y_test, y_test_pred)\n",
    "\n",
    "    train_mae = mean_absolute_error(y_train, y_train_pred)\n",
    "    test_mae = mean_absolute_error(y_test, y_test_pred)\n",
    "\n",
    "    train_rmse = np.sqrt(train_mse)\n",
    "    test_rmse = np.sqrt(test_mse)\n",
    "\n",
    "    train_r2 = r2_score(y_train, y_train_pred)\n",
    "    test_r2 = r2_score(y_test, y_test_pred)\n",
    "\n",
    "    train_scores.append(train_mse)\n",
    "    t_mae_scores.append(train_mae)\n",
    "    t_rmse_scores.append(train_rmse)\n",
    "    t_r2_score.append(train_r2)\n",
    "    t2_val_scores.append(test_mse)\n",
    "    t2_mae_scores.append(test_mae)\n",
    "    t2_rmse_scores.append(test_rmse)\n",
    "    t2_r2_score.append(test_r2)\n",
    "\n",
    "train_mse_mean = np.mean(train_scores)\n",
    "train_mae_mean = np.mean(t_mae_scores)\n",
    "train_rmse_mean = np.mean(t_rmse_scores)\n",
    "train_r2_mean = np.mean(t_r2_score)\n",
    "\n",
    "val_mse_mean = np.mean(t2_val_scores)\n",
    "val_mae_mean = np.mean(t2_mae_scores)\n",
    "val_rmse_mean = np.mean(t2_rmse_scores)\n",
    "val_r2_mean = np.mean(t2_r2_score)\n",
    "\n",
    "# Create a DataFrame for comparison\n",
    "data = {\n",
    "    'Train MSE': [train_mse_mean],\n",
    "    'Train MAE': [train_mae_mean],\n",
    "    'Train RMSE': [train_rmse_mean],\n",
    "    'Train R2': [train_r2_mean],\n",
    "    'Validation MSE': [val_mse_mean],\n",
    "    'Validation MAE': [val_mae_mean],\n",
    "    'Validation RMSE': [val_rmse_mean],\n",
    "    'Validation R2': [val_r2_mean]\n",
    "}\n",
    "comparison_table = pd.DataFrame(data)\n",
    "\n",
    "print(comparison_table)"
   ]
  },
  {
   "cell_type": "code",
   "execution_count": 20,
   "id": "94eb7908-54ab-411f-8d5a-88fe4364a795",
   "metadata": {
    "jupyter": {
     "source_hidden": true
    }
   },
   "outputs": [
    {
     "name": "stdout",
     "output_type": "stream",
     "text": [
      "   Train MSE  Train MAE  Train RMSE  Train R2  Validation MSE  Validation MAE  \\\n",
      "0   0.197174   0.281153    0.443996  0.764373        0.200688        0.282817   \n",
      "\n",
      "   Validation RMSE  Validation R2  \n",
      "0         0.447285       0.759801  \n"
     ]
    }
   ],
   "source": [
    "from sklearn.linear_model import Ridge\n",
    "k = 5\n",
    "kf = KFold(n_splits=k, shuffle=True, random_state=42)\n",
    "\n",
    "train_scores = []\n",
    "t_val_scores = []\n",
    "t_mae_scores = []\n",
    "t_rmse_scores = []\n",
    "t_r2_score = []\n",
    "t2_val_scores = []\n",
    "t2_mae_scores = []\n",
    "t2_rmse_scores = []\n",
    "t2_r2_score = []\n",
    "\n",
    "for train_index, test_index in kf.split(X):\n",
    "    X_train, X_test = X.iloc[train_index], X.iloc[test_index]\n",
    "    y_train, y_test = y.iloc[train_index], y.iloc[test_index]\n",
    "    \n",
    "    # Initialize your regression model\n",
    "    model = Ridge(alpha=1.0)\n",
    "    \n",
    "    # Train the model\n",
    "    model.fit(X_train, y_train)\n",
    "    \n",
    "    # Predictions\n",
    "    y_train_pred = model.predict(X_train)\n",
    "    y_test_pred = model.predict(X_test)\n",
    "    \n",
    "    # Evaluate\n",
    "    train_mse = mean_squared_error(y_train, y_train_pred)\n",
    "    test_mse = mean_squared_error(y_test, y_test_pred)\n",
    "\n",
    "    train_mae = mean_absolute_error(y_train, y_train_pred)\n",
    "    test_mae = mean_absolute_error(y_test, y_test_pred)\n",
    "\n",
    "    train_rmse = np.sqrt(train_mse)\n",
    "    test_rmse = np.sqrt(test_mse)\n",
    "\n",
    "    train_r2 = r2_score(y_train, y_train_pred)\n",
    "    test_r2 = r2_score(y_test, y_test_pred)\n",
    "\n",
    "    train_scores.append(train_mse)\n",
    "    t_mae_scores.append(train_mae)\n",
    "    t_rmse_scores.append(train_rmse)\n",
    "    t_r2_score.append(train_r2)\n",
    "    t2_val_scores.append(test_mse)\n",
    "    t2_mae_scores.append(test_mae)\n",
    "    t2_rmse_scores.append(test_rmse)\n",
    "    t2_r2_score.append(test_r2)\n",
    "\n",
    "train_mse_mean = np.mean(train_scores)\n",
    "train_mae_mean = np.mean(t_mae_scores)\n",
    "train_rmse_mean = np.mean(t_rmse_scores)\n",
    "train_r2_mean = np.mean(t_r2_score)\n",
    "\n",
    "val_mse_mean = np.mean(t2_val_scores)\n",
    "val_mae_mean = np.mean(t2_mae_scores)\n",
    "val_rmse_mean = np.mean(t2_rmse_scores)\n",
    "val_r2_mean = np.mean(t2_r2_score)\n",
    "\n",
    "# Create a DataFrame for comparison\n",
    "data = {\n",
    "    'Train MSE': [train_mse_mean],\n",
    "    'Train MAE': [train_mae_mean],\n",
    "    'Train RMSE': [train_rmse_mean],\n",
    "    'Train R2': [train_r2_mean],\n",
    "    'Validation MSE': [val_mse_mean],\n",
    "    'Validation MAE': [val_mae_mean],\n",
    "    'Validation RMSE': [val_rmse_mean],\n",
    "    'Validation R2': [val_r2_mean]\n",
    "}\n",
    "comparison_table = pd.DataFrame(data)\n",
    "\n",
    "print(comparison_table)"
   ]
  },
  {
   "cell_type": "code",
   "execution_count": 21,
   "id": "de025016-f122-4743-bdc9-3344496c5063",
   "metadata": {
    "jupyter": {
     "source_hidden": true
    }
   },
   "outputs": [
    {
     "name": "stdout",
     "output_type": "stream",
     "text": [
      "   Train MSE  Train MAE  Train RMSE  Train R2  Validation MSE  Validation MAE  \\\n",
      "0   0.288223   0.371274    0.536853  0.655527        0.289704        0.372013   \n",
      "\n",
      "   Validation RMSE  Validation R2  \n",
      "0         0.538033         0.6535  \n"
     ]
    }
   ],
   "source": [
    "from sklearn.linear_model import Lasso\n",
    "k = 5\n",
    "kf = KFold(n_splits=k, shuffle=True, random_state=42)\n",
    "\n",
    "train_scores = []\n",
    "t_val_scores = []\n",
    "t_mae_scores = []\n",
    "t_rmse_scores = []\n",
    "t_r2_score = []\n",
    "t2_val_scores = []\n",
    "t2_mae_scores = []\n",
    "t2_rmse_scores = []\n",
    "t2_r2_score = []\n",
    "\n",
    "for train_index, test_index in kf.split(X):\n",
    "    X_train, X_test = X.iloc[train_index], X.iloc[test_index]\n",
    "    y_train, y_test = y.iloc[train_index], y.iloc[test_index]\n",
    "    \n",
    "    # Initialize your regression model\n",
    "    model = Lasso(alpha=0.1)\n",
    "    \n",
    "    # Train the model\n",
    "    model.fit(X_train, y_train)\n",
    "    \n",
    "    # Predictions\n",
    "    y_train_pred = model.predict(X_train)\n",
    "    y_test_pred = model.predict(X_test)\n",
    "    \n",
    "    # Evaluate\n",
    "    train_mse = mean_squared_error(y_train, y_train_pred)\n",
    "    test_mse = mean_squared_error(y_test, y_test_pred)\n",
    "\n",
    "    train_mae = mean_absolute_error(y_train, y_train_pred)\n",
    "    test_mae = mean_absolute_error(y_test, y_test_pred)\n",
    "\n",
    "    train_rmse = np.sqrt(train_mse)\n",
    "    test_rmse = np.sqrt(test_mse)\n",
    "\n",
    "    train_r2 = r2_score(y_train, y_train_pred)\n",
    "    test_r2 = r2_score(y_test, y_test_pred)\n",
    "\n",
    "    train_scores.append(train_mse)\n",
    "    t_mae_scores.append(train_mae)\n",
    "    t_rmse_scores.append(train_rmse)\n",
    "    t_r2_score.append(train_r2)\n",
    "    t2_val_scores.append(test_mse)\n",
    "    t2_mae_scores.append(test_mae)\n",
    "    t2_rmse_scores.append(test_rmse)\n",
    "    t2_r2_score.append(test_r2)\n",
    "\n",
    "train_mse_mean = np.mean(train_scores)\n",
    "train_mae_mean = np.mean(t_mae_scores)\n",
    "train_rmse_mean = np.mean(t_rmse_scores)\n",
    "train_r2_mean = np.mean(t_r2_score)\n",
    "\n",
    "val_mse_mean = np.mean(t2_val_scores)\n",
    "val_mae_mean = np.mean(t2_mae_scores)\n",
    "val_rmse_mean = np.mean(t2_rmse_scores)\n",
    "val_r2_mean = np.mean(t2_r2_score)\n",
    "\n",
    "# Create a DataFrame for comparison\n",
    "data = {\n",
    "    'Train MSE': [train_mse_mean],\n",
    "    'Train MAE': [train_mae_mean],\n",
    "    'Train RMSE': [train_rmse_mean],\n",
    "    'Train R2': [train_r2_mean],\n",
    "    'Validation MSE': [val_mse_mean],\n",
    "    'Validation MAE': [val_mae_mean],\n",
    "    'Validation RMSE': [val_rmse_mean],\n",
    "    'Validation R2': [val_r2_mean]\n",
    "}\n",
    "comparison_table = pd.DataFrame(data)\n",
    "\n",
    "print(comparison_table)"
   ]
  },
  {
   "cell_type": "code",
   "execution_count": 27,
   "id": "91e2f475-3a4d-4a85-9c18-a5fa11454ce1",
   "metadata": {
    "jupyter": {
     "source_hidden": true
    },
    "scrolled": true
   },
   "outputs": [
    {
     "name": "stdout",
     "output_type": "stream",
     "text": [
      "ElasticNet(alpha=0.01, l1_ratio=0.1)\n"
     ]
    }
   ],
   "source": [
    "from sklearn.model_selection import GridSearchCV\n",
    "\n",
    "param_grid = {\n",
    "    'alpha': [0.01,0.1],\n",
    "    'l1_ratio': [0.001,0.1,0.2, 0.5]  # for ElasticNet\n",
    "}\n",
    "\n",
    "grid = GridSearchCV(ElasticNet(), param_grid, cv=5)\n",
    "grid.fit(X, y)\n",
    "\n",
    "best_model = grid.best_estimator_\n",
    "print(best_model)"
   ]
  },
  {
   "cell_type": "code",
   "execution_count": 28,
   "id": "48ce19ae-c3c3-49e0-acf1-2ae6796c19b3",
   "metadata": {
    "jupyter": {
     "source_hidden": true
    }
   },
   "outputs": [
    {
     "name": "stdout",
     "output_type": "stream",
     "text": [
      "   Train MSE  Train MAE  Train RMSE  Train R2  Validation MSE  Validation MAE  \\\n",
      "0   0.198521   0.285306    0.445511  0.762763        0.201813        0.286845   \n",
      "\n",
      "   Validation RMSE  Validation R2  \n",
      "0         0.448631       0.758466  \n"
     ]
    }
   ],
   "source": [
    "from sklearn.linear_model import ElasticNet\n",
    "k = 5\n",
    "kf = KFold(n_splits=k, shuffle=True, random_state=42)\n",
    "\n",
    "train_scores = []\n",
    "t_val_scores = []\n",
    "t_mae_scores = []\n",
    "t_rmse_scores = []\n",
    "t_r2_score = []\n",
    "t2_val_scores = []\n",
    "t2_mae_scores = []\n",
    "t2_rmse_scores = []\n",
    "t2_r2_score = []\n",
    "\n",
    "for train_index, test_index in kf.split(X):\n",
    "    X_train, X_test = X.iloc[train_index], X.iloc[test_index]\n",
    "    y_train, y_test = y.iloc[train_index], y.iloc[test_index]\n",
    "    \n",
    "    # Initialize your regression model\n",
    "    model = ElasticNet(alpha=0.01, l1_ratio=0.1)\n",
    "    \n",
    "    # Train the model\n",
    "    model.fit(X_train, y_train)\n",
    "    \n",
    "    # Predictions\n",
    "    y_train_pred = model.predict(X_train)\n",
    "    y_test_pred = model.predict(X_test)\n",
    "    \n",
    "    # Evaluate\n",
    "    train_mse = mean_squared_error(y_train, y_train_pred)\n",
    "    test_mse = mean_squared_error(y_test, y_test_pred)\n",
    "\n",
    "    train_mae = mean_absolute_error(y_train, y_train_pred)\n",
    "    test_mae = mean_absolute_error(y_test, y_test_pred)\n",
    "\n",
    "    train_rmse = np.sqrt(train_mse)\n",
    "    test_rmse = np.sqrt(test_mse)\n",
    "\n",
    "    train_r2 = r2_score(y_train, y_train_pred)\n",
    "    test_r2 = r2_score(y_test, y_test_pred)\n",
    "\n",
    "    train_scores.append(train_mse)\n",
    "    t_mae_scores.append(train_mae)\n",
    "    t_rmse_scores.append(train_rmse)\n",
    "    t_r2_score.append(train_r2)\n",
    "    t2_val_scores.append(test_mse)\n",
    "    t2_mae_scores.append(test_mae)\n",
    "    t2_rmse_scores.append(test_rmse)\n",
    "    t2_r2_score.append(test_r2)\n",
    "\n",
    "train_mse_mean = np.mean(train_scores)\n",
    "train_mae_mean = np.mean(t_mae_scores)\n",
    "train_rmse_mean = np.mean(t_rmse_scores)\n",
    "train_r2_mean = np.mean(t_r2_score)\n",
    "\n",
    "val_mse_mean = np.mean(t2_val_scores)\n",
    "val_mae_mean = np.mean(t2_mae_scores)\n",
    "val_rmse_mean = np.mean(t2_rmse_scores)\n",
    "val_r2_mean = np.mean(t2_r2_score)\n",
    "\n",
    "# Create a DataFrame for comparison\n",
    "data = {\n",
    "    'Train MSE': [train_mse_mean],\n",
    "    'Train MAE': [train_mae_mean],\n",
    "    'Train RMSE': [train_rmse_mean],\n",
    "    'Train R2': [train_r2_mean],\n",
    "    'Validation MSE': [val_mse_mean],\n",
    "    'Validation MAE': [val_mae_mean],\n",
    "    'Validation RMSE': [val_rmse_mean],\n",
    "    'Validation R2': [val_r2_mean]\n",
    "}\n",
    "comparison_table = pd.DataFrame(data)\n",
    "\n",
    "print(comparison_table)"
   ]
  },
  {
   "cell_type": "markdown",
   "id": "305c21a2-b543-4ef6-a78c-187068a99893",
   "metadata": {},
   "source": [
    ">>>lets look at classification regression algorithm"
   ]
  },
  {
   "cell_type": "code",
   "execution_count": 29,
   "id": "2e73ed09-f7d2-4269-8c20-ac727adec784",
   "metadata": {
    "jupyter": {
     "source_hidden": true
    }
   },
   "outputs": [
    {
     "name": "stdout",
     "output_type": "stream",
     "text": [
      "Best hyperparameters: {'max_depth': 5, 'min_samples_leaf': 1, 'min_samples_split': 2}\n",
      "  Metric     Value\n",
      "0    MSE  0.172833\n",
      "1    MAE  0.222509\n",
      "2   RMSE  0.415731\n",
      "3     R2  0.803279\n"
     ]
    }
   ],
   "source": [
    "from sklearn.tree import DecisionTreeRegressor\n",
    "from sklearn.model_selection import train_test_split, GridSearchCV\n",
    "from sklearn.metrics import mean_squared_error, mean_absolute_error, r2_score\n",
    "import numpy as np\n",
    "import pandas as pd\n",
    "\n",
    "# Step 1: Split your data into train and test sets\n",
    "X_train, X_test, y_train, y_test = train_test_split(X, y, test_size=0.2, random_state=42)\n",
    "\n",
    "# Step 2: Define parameter grid for DecisionTreeRegressor\n",
    "param_grid = {\n",
    "    'max_depth': [3, 5, 10, None],\n",
    "    'min_samples_split': [2, 5, 10],\n",
    "    'min_samples_leaf': [1, 2, 4]\n",
    "}\n",
    "\n",
    "# Step 3: Initialize the DecisionTreeRegressor\n",
    "dt_model = DecisionTreeRegressor(random_state=42)\n",
    "\n",
    "# Step 4: Setup GridSearchCV\n",
    "grid_search = GridSearchCV(estimator=dt_model, param_grid=param_grid, cv=5, scoring='neg_mean_squared_error', n_jobs=-1)\n",
    "\n",
    "# Step 5: Fit on training data\n",
    "grid_search.fit(X_train, y_train)\n",
    "\n",
    "# Step 6: Get the best estimator\n",
    "best_dt_model = grid_search.best_estimator_\n",
    "\n",
    "# Step 7: Evaluate on the hold-out test set\n",
    "y_test_pred = best_dt_model.predict(X_test)\n",
    "\n",
    "# Calculate metrics on test set\n",
    "test_mse = mean_squared_error(y_test, y_test_pred)\n",
    "test_mae = mean_absolute_error(y_test, y_test_pred)\n",
    "test_rmse = np.sqrt(test_mse)\n",
    "test_r2 = r2_score(y_test, y_test_pred)\n",
    "\n",
    "# Display the results\n",
    "performance = pd.DataFrame({\n",
    "    'Metric': ['MSE', 'MAE', 'RMSE', 'R2'],\n",
    "    'Value': [test_mse, test_mae, test_rmse, test_r2]\n",
    "})\n",
    "\n",
    "print(\"Best hyperparameters:\", grid_search.best_params_)\n",
    "print(performance)"
   ]
  },
  {
   "cell_type": "code",
   "execution_count": null,
   "id": "eb6957a7-432b-4d3e-afd8-ae40140ce641",
   "metadata": {},
   "outputs": [],
   "source": []
  },
  {
   "cell_type": "code",
   "execution_count": 30,
   "id": "980e0330-cca4-43ab-b6ea-d96ab8928375",
   "metadata": {
    "jupyter": {
     "source_hidden": true
    },
    "scrolled": true
   },
   "outputs": [
    {
     "name": "stdout",
     "output_type": "stream",
     "text": [
      "Best hyperparameters: {'max_depth': 10, 'min_samples_leaf': 4, 'min_samples_split': 10, 'n_estimators': 100}\n",
      "  Metric     Value\n",
      "0    MSE  0.169099\n",
      "1    MAE  0.212707\n",
      "2   RMSE  0.411216\n",
      "3     R2  0.807529\n"
     ]
    },
    {
     "name": "stderr",
     "output_type": "stream",
     "text": [
      "Exception ignored in: <function ResourceTracker.__del__ at 0x72328d866020>\n",
      "Traceback (most recent call last):\n",
      "  File \"/usr/lib/python3.13/multiprocessing/resource_tracker.py\", line 82, in __del__\n",
      "  File \"/usr/lib/python3.13/multiprocessing/resource_tracker.py\", line 91, in _stop\n",
      "  File \"/usr/lib/python3.13/multiprocessing/resource_tracker.py\", line 116, in _stop_locked\n",
      "ChildProcessError: [Errno 10] No child processes\n",
      "Exception ignored in: <function ResourceTracker.__del__ at 0x7e3b7276e020>\n",
      "Traceback (most recent call last):\n",
      "  File \"/usr/lib/python3.13/multiprocessing/resource_tracker.py\", line 82, in __del__\n",
      "  File \"/usr/lib/python3.13/multiprocessing/resource_tracker.py\", line 91, in _stop\n",
      "  File \"/usr/lib/python3.13/multiprocessing/resource_tracker.py\", line 116, in _stop_locked\n",
      "ChildProcessError: [Errno 10] No child processes\n",
      "Exception ignored in: <function ResourceTracker.__del__ at 0x7b0269862020>\n",
      "Traceback (most recent call last):\n",
      "  File \"/usr/lib/python3.13/multiprocessing/resource_tracker.py\", line 82, in __del__\n",
      "  File \"/usr/lib/python3.13/multiprocessing/resource_tracker.py\", line 91, in _stop\n",
      "  File \"/usr/lib/python3.13/multiprocessing/resource_tracker.py\", line 116, in _stop_locked\n",
      "ChildProcessError: [Errno 10] No child processes\n",
      "Exception ignored in: <function ResourceTracker.__del__ at 0x71b43ce6e020>\n",
      "Traceback (most recent call last):\n",
      "  File \"/usr/lib/python3.13/multiprocessing/resource_tracker.py\", line 82, in __del__\n",
      "  File \"/usr/lib/python3.13/multiprocessing/resource_tracker.py\", line 91, in _stop\n",
      "  File \"/usr/lib/python3.13/multiprocessing/resource_tracker.py\", line 116, in _stop_locked\n",
      "ChildProcessError: [Errno 10] No child processes\n",
      "Exception ignored in: <function ResourceTracker.__del__ at 0x75fc3606e020>\n",
      "Traceback (most recent call last):\n",
      "  File \"/usr/lib/python3.13/multiprocessing/resource_tracker.py\", line 82, in __del__\n",
      "  File \"/usr/lib/python3.13/multiprocessing/resource_tracker.py\", line 91, in _stop\n",
      "  File \"/usr/lib/python3.13/multiprocessing/resource_tracker.py\", line 116, in _stop_locked\n",
      "ChildProcessError: [Errno 10] No child processes\n",
      "Exception ignored in: <function ResourceTracker.__del__ at 0x75afe5f6e020>\n",
      "Traceback (most recent call last):\n",
      "  File \"/usr/lib/python3.13/multiprocessing/resource_tracker.py\", line 82, in __del__\n",
      "  File \"/usr/lib/python3.13/multiprocessing/resource_tracker.py\", line 91, in _stop\n",
      "  File \"/usr/lib/python3.13/multiprocessing/resource_tracker.py\", line 116, in _stop_locked\n",
      "ChildProcessError: [Errno 10] No child processes\n",
      "Exception ignored in: <function ResourceTracker.__del__ at 0x7f91cf372020>\n",
      "Traceback (most recent call last):\n",
      "  File \"/usr/lib/python3.13/multiprocessing/resource_tracker.py\", line 82, in __del__\n",
      "  File \"/usr/lib/python3.13/multiprocessing/resource_tracker.py\", line 91, in _stop\n",
      "  File \"/usr/lib/python3.13/multiprocessing/resource_tracker.py\", line 116, in _stop_locked\n",
      "ChildProcessError: [Errno 10] No child processes\n"
     ]
    }
   ],
   "source": [
    "from sklearn.ensemble import RandomForestRegressor\n",
    "from sklearn.model_selection import train_test_split, GridSearchCV\n",
    "from sklearn.metrics import mean_squared_error, mean_absolute_error, r2_score\n",
    "import numpy as np\n",
    "import pandas as pd\n",
    "\n",
    "# Step 1: Split your data into train and test sets\n",
    "X_train, X_test, y_train, y_test = train_test_split(X, y, test_size=0.2, random_state=42)\n",
    "\n",
    "# Step 2: Define parameter grid for DecisionTreeRegressor\n",
    "param_grid models = {\n",
    "    'GradientBoostingRegressor': GradientBoostingRegressor(n_estimators=100, random_state=42),\n",
    "    'XGBoostRegressor': xgb.XGBRegressor(n_estimators=100, random_state=42, objective='reg:squarederror')\n",
    "}= {\n",
    "    'n_estimators': [100, 200, 300],\n",
    "    'max_depth': [None, 10, 20],\n",
    "    'min_samples_split': [2, 5, 10],\n",
    "    'min_samples_leaf': [1, 2, 4]\n",
    "}\n",
    "\n",
    "# Step 3: Initialize the RandomForestRegressor\n",
    "rf_model = RandomForestRegressor(random_state=42)\n",
    "\n",
    "# Step 4: Setup GridSearchCV\n",
    "grid_search = GridSearchCV(estimator=rf_model, param_grid=param_grid, cv=5, scoring='neg_mean_squared_error', n_jobs=-1)\n",
    "\n",
    "# Step 5: Fit on training data\n",
    "grid_search.fit(X_train, y_train)\n",
    "\n",
    "# Step 6: Get the best estimator\n",
    "best_dt_model = grid_search.best_estimator_\n",
    "\n",
    "# Step 7: Evaluate on the hold-out test set\n",
    "y_test_pred = best_dt_model.predict(X_test)\n",
    "\n",
    "# Calculate metrics on test set\n",
    "test_mse = mean_squared_error(y_test, y_test_pred)\n",
    "test_mae = mean_absolute_error(y_test, y_test_pred)\n",
    "test_rmse = np.sqrt(test_mse)\n",
    "test_r2 = r2_score(y_test, y_test_pred)\n",
    "\n",
    "# Display the results\n",
    "performance = pd.DataFrame({\n",
    "    'Metric': ['MSE', 'MAE', 'RMSE', 'R2'],\n",
    "    'Value': [test_mse, test_mae, test_rmse, test_r2]\n",
    "})\n",
    "\n",
    "print(\"Best hyperparameters:\", grid_search.best_params_)\n",
    "print(performance)"
   ]
  },
  {
   "cell_type": "code",
   "execution_count": 43,
   "id": "e76f25da-f603-4bf5-b365-e46dcc154585",
   "metadata": {
    "jupyter": {
     "source_hidden": true
    }
   },
   "outputs": [
    {
     "name": "stdout",
     "output_type": "stream",
     "text": [
      "Best hyperparameters: {'max_depth': 3, 'min_samples_leaf': 4, 'min_samples_split': 2, 'n_estimators': 100}\n",
      "  Metric     Value\n",
      "0    MSE  0.159760\n",
      "1    MAE  0.206071\n",
      "2   RMSE  0.399700\n",
      "3     R2  0.818158\n"
     ]
    }
   ],
   "source": [
    "from sklearn.ensemble import GradientBoostingRegressor\n",
    "gb_param_grid = {\n",
    "    'n_estimators': [100, 200, 300],\n",
    "    'max_depth': [3, 10, 20],            # max_depth is typical for GradientBoosting\n",
    "    'min_samples_split': [2, 5, 10],     # Note: GradientBoosting uses 'min_samples_split' isn't valid, use 'min_samples_split' if using sklearn's GradientBoosting\n",
    "    'min_samples_leaf': [1, 2, 4]\n",
    "}\n",
    "gb_model = GradientBoostingRegressor(random_state=42)\n",
    "gb_grid_search = GridSearchCV(estimator=gb_model,\n",
    "                              param_grid=gb_param_grid,\n",
    "                              cv=5,\n",
    "                              scoring='neg_mean_squared_error',\n",
    "                              n_jobs=-1)\n",
    "gb_grid_search.fit(X_train, y_train)\n",
    "\n",
    "# Step 6: Get the best estimator\n",
    "best_gb_model = gb_grid_search.best_estimator_\n",
    "\n",
    "# Step 7: Evaluate on the hold-out test set\n",
    "y_test_pred = best_gb_model.predict(X_test)\n",
    "\n",
    "# Calculate metrics on test set\n",
    "test_mse = mean_squared_error(y_test, y_test_pred)\n",
    "test_mae = mean_absolute_error(y_test, y_test_pred)\n",
    "test_rmse = np.sqrt(test_mse)\n",
    "test_r2 = r2_score(y_test, y_test_pred)\n",
    "\n",
    "# Display the results\n",
    "performance = pd.DataFrame({\n",
    "    'Metric': ['MSE', 'MAE', 'RMSE', 'R2'],\n",
    "    'Value': [test_mse, test_mae, test_rmse, test_r2]\n",
    "})\n",
    "\n",
    "print(\"Best hyperparameters:\", gb_grid_search.best_params_)\n",
    "print(performance)"
   ]
  },
  {
   "cell_type": "code",
   "execution_count": 44,
   "id": "acbc2629-b185-4e83-8ba9-195d46657d9c",
   "metadata": {
    "jupyter": {
     "source_hidden": true
    }
   },
   "outputs": [
    {
     "name": "stdout",
     "output_type": "stream",
     "text": [
      "Best hyperparameters: {'learning_rate': 0.1, 'max_depth': 3, 'min_child_weight': 10, 'n_estimators': 100}\n",
      "  Metric     Value\n",
      "0    MSE  0.165628\n",
      "1    MAE  0.211854\n",
      "2   RMSE  0.406974\n",
      "3     R2  0.811480\n"
     ]
    }
   ],
   "source": [
    "import xgboost as xgb\n",
    "\n",
    "xgb_param_grid = {\n",
    "    'n_estimators': [100, 200, 300],\n",
    "    'max_depth': [3, 10, 20],\n",
    "    'min_child_weight': [1, 5, 10],   # XGBoost uses 'min_child_weight'\n",
    "    'learning_rate': [0.01, 0.1, 0.2], # Optional, add if you want to tune learning rate\n",
    "}\n",
    "\n",
    "xgb_model = xgb.XGBRegressor(objective='reg:squarederror', random_state=42)\n",
    "xgb_grid_search = GridSearchCV(estimator=xgb_model,\n",
    "                               param_grid=xgb_param_grid,\n",
    "                               cv=5,\n",
    "                               scoring='neg_mean_squared_error',\n",
    "                               n_jobs=-1)\n",
    "xgb_grid_search.fit(X_train, y_train)\n",
    "\n",
    "# Step 6: Get the best estimator\n",
    "best_xgb_model = xgb_grid_search.best_estimator_\n",
    "\n",
    "# Step 7: Evaluate on the hold-out test set\n",
    "y_test_pred = best_xgb_model.predict(X_test)\n",
    "\n",
    "# Calculate metrics on test set\n",
    "test_mse = mean_squared_error(y_test, y_test_pred)\n",
    "test_mae = mean_absolute_error(y_test, y_test_pred)\n",
    "test_rmse = np.sqrt(test_mse)\n",
    "test_r2 = r2_score(y_test, y_test_pred)\n",
    "\n",
    "# Display the results\n",
    "performance = pd.DataFrame({\n",
    "    'Metric': ['MSE', 'MAE', 'RMSE', 'R2'],\n",
    "    'Value': [test_mse, test_mae, test_rmse, test_r2]\n",
    "})\n",
    "\n",
    "print(\"Best hyperparameters:\", xgb_grid_search.best_params_)\n",
    "print(performance)"
   ]
  },
  {
   "cell_type": "code",
   "execution_count": 45,
   "id": "8d0e4c4d-d849-47cb-9774-6430032d4763",
   "metadata": {
    "jupyter": {
     "source_hidden": true
    }
   },
   "outputs": [
    {
     "name": "stdout",
     "output_type": "stream",
     "text": [
      "Best hyperparameters: {'algorithm': 'brute', 'n_neighbors': 3, 'weights': 'distance'}\n",
      "  Metric     Value\n",
      "0    MSE  0.336664\n",
      "1    MAE  0.353299\n",
      "2   RMSE  0.580228\n",
      "3     R2  0.616804\n"
     ]
    }
   ],
   "source": [
    "from sklearn.neighbors import KNeighborsRegressor\n",
    "from sklearn.model_selection import GridSearchCV\n",
    "\n",
    "# Define parameter grid for KNN\n",
    "knn_param_grid = {\n",
    "    'n_neighbors': [3, 5, 7, 9],\n",
    "    'weights': ['uniform', 'distance'],\n",
    "    'algorithm': ['auto', 'ball_tree', 'kd_tree', 'brute']\n",
    "}\n",
    "\n",
    "# Initialize KNeighborsRegressor\n",
    "knn_model = KNeighborsRegressor()\n",
    "\n",
    "# Setup GridSearchCV\n",
    "knn_grid_search = GridSearchCV(estimator=knn_model,\n",
    "                               param_grid=knn_param_grid,\n",
    "                               cv=5,\n",
    "                               scoring='neg_mean_squared_error',\n",
    "                               n_jobs=-1)\n",
    "knn_grid_search.fit(X_train, y_train)\n",
    "\n",
    "# Step 6: Get the best estimator\n",
    "best_knn_model = knn_grid_search.best_estimator_\n",
    "\n",
    "# Step 7: Evaluate on the hold-out test set\n",
    "y_test_pred = best_knn_model.predict(X_test)\n",
    "\n",
    "# Calculate metrics on test set\n",
    "test_mse = mean_squared_error(y_test, y_test_pred)\n",
    "test_mae = mean_absolute_error(y_test, y_test_pred)\n",
    "test_rmse = np.sqrt(test_mse)\n",
    "test_r2 = r2_score(y_test, y_test_pred)\n",
    "\n",
    "# Display the results\n",
    "performance = pd.DataFrame({\n",
    "    'Metric': ['MSE', 'MAE', 'RMSE', 'R2'],\n",
    "    'Value': [test_mse, test_mae, test_rmse, test_r2]\n",
    "})\n",
    "\n",
    "print(\"Best hyperparameters:\", knn_grid_search.best_params_)\n",
    "print(performance)"
   ]
  },
  {
   "cell_type": "code",
   "execution_count": 46,
   "id": "fe168be8-4ddb-4d8b-b47e-e07199bf0836",
   "metadata": {
    "jupyter": {
     "source_hidden": true
    }
   },
   "outputs": [
    {
     "name": "stdout",
     "output_type": "stream",
     "text": [
      "Best hyperparameters: {'C': 10, 'epsilon': 0.1, 'gamma': 0.1}\n",
      "  Metric     Value\n",
      "0    MSE  0.165603\n",
      "1    MAE  0.194202\n",
      "2   RMSE  0.406943\n",
      "3     R2  0.811508\n"
     ]
    }
   ],
   "source": [
    "from sklearn.svm import SVR\n",
    "\n",
    "# Define parameter grid for SVR with RBF kernel\n",
    "svr_param_grid = {\n",
    "    'C': [0.1, 1, 10, 100],\n",
    "    'epsilon': [0.1, 0.2, 0.5],\n",
    "    'gamma': ['scale', 'auto', 0.01, 0.1, 1]\n",
    "}\n",
    "\n",
    "# Initialize SVR\n",
    "svr_model = SVR(kernel='rbf')\n",
    "\n",
    "# Setup GridSearchCV\n",
    "svr_grid_search = GridSearchCV(estimator=svr_model,\n",
    "                               param_grid=svr_param_grid,\n",
    "                               cv=5,\n",
    "                               scoring='neg_mean_squared_error',\n",
    "                               n_jobs=-1)\n",
    "svr_grid_search.fit(X_train, y_train)\n",
    "\n",
    "# Step 6: Get the best estimator\n",
    "best_svr_model = svr_grid_search.best_estimator_\n",
    "\n",
    "# Step 7: Evaluate on the hold-out test set\n",
    "y_test_pred = best_svr_model.predict(X_test)\n",
    "\n",
    "# Calculate metrics on test set\n",
    "test_mse = mean_squared_error(y_test, y_test_pred)\n",
    "test_mae = mean_absolute_error(y_test, y_test_pred)\n",
    "test_rmse = np.sqrt(test_mse)\n",
    "test_r2 = r2_score(y_test, y_test_pred)\n",
    "\n",
    "# Display the results\n",
    "performance = pd.DataFrame({\n",
    "    'Metric': ['MSE', 'MAE', 'RMSE', 'R2'],\n",
    "    'Value': [test_mse, test_mae, test_rmse, test_r2]\n",
    "})\n",
    "\n",
    "print(\"Best hyperparameters:\", svr_grid_search.best_params_)\n",
    "print(performance)"
   ]
  },
  {
   "cell_type": "code",
   "execution_count": 48,
   "id": "0fb742b7-a2d2-49e9-b5a0-0ba7b3619399",
   "metadata": {
    "jupyter": {
     "source_hidden": true
    },
    "scrolled": true
   },
   "outputs": [
    {
     "name": "stdout",
     "output_type": "stream",
     "text": [
      "Best hyperparameters for individual models:\n",
      "GradientBoostingRegressor: {'max_depth': 3, 'min_samples_leaf': 4, 'min_samples_split': 2, 'n_estimators': 100}\n",
      "SVR: {'C': 10, 'epsilon': 0.1, 'gamma': 0.1}\n",
      "\n",
      "Stacking Regressor Performance on Test Set:\n",
      "  Metric     Value\n",
      "0    MSE  0.158211\n",
      "1    MAE  0.210000\n",
      "2   RMSE  0.397758\n",
      "3     R2  0.819922\n"
     ]
    },
    {
     "name": "stderr",
     "output_type": "stream",
     "text": [
      "Exception ignored in: <function ResourceTracker.__del__ at 0x705b9a16e020>\n",
      "Traceback (most recent call last):\n",
      "  File \"/usr/lib/python3.13/multiprocessing/resource_tracker.py\", line 82, in __del__\n",
      "  File \"/usr/lib/python3.13/multiprocessing/resource_tracker.py\", line 91, in _stop\n",
      "  File \"/usr/lib/python3.13/multiprocessing/resource_tracker.py\", line 116, in _stop_locked\n",
      "ChildProcessError: [Errno 10] No child processes\n",
      "Exception ignored in: <function ResourceTracker.__del__ at 0x74a034c6a020>\n",
      "Traceback (most recent call last):\n",
      "  File \"/usr/lib/python3.13/multiprocessing/resource_tracker.py\", line 82, in __del__\n",
      "  File \"/usr/lib/python3.13/multiprocessing/resource_tracker.py\", line 91, in _stop\n",
      "  File \"/usr/lib/python3.13/multiprocessing/resource_tracker.py\", line 116, in _stop_locked\n",
      "ChildProcessError: [Errno 10] No child processes\n",
      "Exception ignored in: <function ResourceTracker.__del__ at 0x7d7cf4e5e020>\n",
      "Traceback (most recent call last):\n",
      "  File \"/usr/lib/python3.13/multiprocessing/resource_tracker.py\", line 82, in __del__\n",
      "  File \"/usr/lib/python3.13/multiprocessing/resource_tracker.py\", line 91, in _stop\n",
      "  File \"/usr/lib/python3.13/multiprocessing/resource_tracker.py\", line 116, in _stop_locked\n",
      "ChildProcessError: [Errno 10] No child processes\n",
      "Exception ignored in: <function ResourceTracker.__del__ at 0x7b9df9066020>\n",
      "Traceback (most recent call last):\n",
      "  File \"/usr/lib/python3.13/multiprocessing/resource_tracker.py\", line 82, in __del__\n",
      "  File \"/usr/lib/python3.13/multiprocessing/resource_tracker.py\", line 91, in _stop\n",
      "  File \"/usr/lib/python3.13/multiprocessing/resource_tracker.py\", line 116, in _stop_locked\n",
      "ChildProcessError: [Errno 10] No child processes\n",
      "Exception ignored in: <function ResourceTracker.__del__ at 0x7f8951e6a020>\n",
      "Traceback (most recent call last):\n",
      "  File \"/usr/lib/python3.13/multiprocessing/resource_tracker.py\", line 82, in __del__\n",
      "  File \"/usr/lib/python3.13/multiprocessing/resource_tracker.py\", line 91, in _stop\n",
      "  File \"/usr/lib/python3.13/multiprocessing/resource_tracker.py\", line 116, in _stop_locked\n",
      "ChildProcessError: [Errno 10] No child processes\n",
      "Exception ignored in: <function ResourceTracker.__del__ at 0x76347ec6a020>\n",
      "Traceback (most recent call last):\n",
      "  File \"/usr/lib/python3.13/multiprocessing/resource_tracker.py\", line 82, in __del__\n",
      "  File \"/usr/lib/python3.13/multiprocessing/resource_tracker.py\", line 91, in _stop\n",
      "  File \"/usr/lib/python3.13/multiprocessing/resource_tracker.py\", line 116, in _stop_locked\n",
      "ChildProcessError: [Errno 10] No child processes\n",
      "Exception ignored in: <function ResourceTracker.__del__ at 0x794b82e6e020>\n",
      "Traceback (most recent call last):\n",
      "  File \"/usr/lib/python3.13/multiprocessing/resource_tracker.py\", line 82, in __del__\n",
      "  File \"/usr/lib/python3.13/multiprocessing/resource_tracker.py\", line 91, in _stop\n",
      "  File \"/usr/lib/python3.13/multiprocessing/resource_tracker.py\", line 116, in _stop_locked\n",
      "ChildProcessError: [Errno 10] No child processes\n",
      "Exception ignored in: <function ResourceTracker.__del__ at 0x7e4a2e466020>\n",
      "Traceback (most recent call last):\n",
      "  File \"/usr/lib/python3.13/multiprocessing/resource_tracker.py\", line 82, in __del__\n",
      "  File \"/usr/lib/python3.13/multiprocessing/resource_tracker.py\", line 91, in _stop\n",
      "  File \"/usr/lib/python3.13/multiprocessing/resource_tracker.py\", line 116, in _stop_locked\n",
      "ChildProcessError: [Errno 10] No child processes\n"
     ]
    }
   ],
   "source": [
    "from sklearn.ensemble import StackingRegressor\n",
    "gbr = GradientBoostingRegressor(\n",
    "    max_depth=3,\n",
    "    min_samples_leaf=4,\n",
    "    min_samples_split=2,\n",
    "    n_estimators=100\n",
    ")\n",
    "\n",
    "from sklearn.svm import SVR\n",
    "svr = SVR(C=10, epsilon=0.1, gamma=0.1)\n",
    "\n",
    "lr = LinearRegression()\n",
    "\n",
    "gbr.fit(X_train, y_train)\n",
    "svr.fit(X_train, y_train)\n",
    "lr.fit(X_train, y_train)\n",
    "\n",
    "estimators = [\n",
    "    ('gbr', gbr),\n",
    "    ('svr', svr),\n",
    "    ('lr', lr)\n",
    "]\n",
    "\n",
    "stacking_regressor = StackingRegressor(\n",
    "    estimators=estimators,\n",
    "    final_estimator=LinearRegression()\n",
    ")\n",
    "\n",
    "stacking_regressor.fit(X_train, y_train)\n",
    "\n",
    "# Step 6: Get the best estimator (the trained stacking model)\n",
    "stacking_model = stacking_regressor\n",
    "\n",
    "y_test_pred = stacking_model.predict(X_test)\n",
    "\n",
    "# Calculate metrics\n",
    "test_mse = mean_squared_error(y_test, y_test_pred)\n",
    "test_mae = mean_absolute_error(y_test, y_test_pred)\n",
    "test_rmse = np.sqrt(test_mse)\n",
    "test_r2 = r2_score(y_test, y_test_pred)\n",
    "\n",
    "# Prepare performance DataFrame\n",
    "performance = pd.DataFrame({\n",
    "    'Metric': ['MSE', 'MAE', 'RMSE', 'R2'],\n",
    "    'Value': [test_mse, test_mae, test_rmse, test_r2]\n",
    "})\n",
    "\n",
    "# Display results\n",
    "print(\"Best hyperparameters for individual models:\")\n",
    "print(\"GradientBoostingRegressor:\", {'max_depth': 3, 'min_samples_leaf': 4, 'min_samples_split': 2, 'n_estimators': 100})\n",
    "print(\"SVR:\", {'C': 10, 'epsilon': 0.1, 'gamma': 0.1})\n",
    "print(\"\\nStacking Regressor Performance on Test Set:\")\n",
    "print(performance)"
   ]
  },
  {
   "cell_type": "markdown",
   "id": "f6d3f93c-ec56-4e5b-abb5-0042d16d962c",
   "metadata": {},
   "source": [
    ">Full Workflow Summary\n",
    "1. Libraries and Data Loading\n",
    "\n",
    "    Loaded necessary Python libraries (e.g., pandas, numpy, matplotlib, seaborn, sklearn, xgboost).\n",
    "    Loaded the dataset into a DataFrame.\n",
    "\n",
    "2. Exploratory Data Analysis (EDA)\n",
    "\n",
    "    Examined dataset info, descriptive statistics (info(), describe()).\n",
    "    Checked for missing values, duplicated entries, correlations (corr()), unique values (nunique()), shape, and previewed the first few rows (head()).\n",
    "    Visualized feature distributions with histograms.\n",
    "    Identified potential outliers using box-and-whisker plots.\n",
    "\n",
    "3. Data Preprocessing\n",
    "\n",
    "    Applied feature scaling:\n",
    "        StandardScaler for numerical features.\n",
    "        Binary encoding for categorical variables.\n",
    "        One-hot encoding for categorical features.\n",
    "    Transformed data for modeling.\n",
    "\n",
    "4. Train-Test Split\n",
    "\n",
    "    Split data into training and hold-out test sets (e.g., 80/20 split).\n",
    "\n",
    "5. Model Training & Hyperparameter Tuning\n",
    "\n",
    "    Trained multiple models with hyperparameter tuning:\n",
    "\n",
    "    Linear Models:\n",
    "        Linear Regression\n",
    "        Ridge Regression\n",
    "        Lasso Regression\n",
    "        ElasticNet\n",
    "\n",
    "    Tree-Based & Ensemble Models:\n",
    "        Decision Tree Regressor (max_depth=5, min_samples_leaf=1, min_samples_split=2)\n",
    "        Random Forest Regressor (max_depth=10, min_samples_leaf=4, min_samples_split=10, n_estimators=100)\n",
    "        Gradient Boosting Regressor (max_depth=3, min_samples_leaf=4, min_samples_split=2, n_estimators=100)\n",
    "        XGBoost Regressor (learning_rate=0.1, max_depth=3, min_child_weight=10, n_estimators=100)\n",
    "        K-Nearest Neighbors (n_neighbors=3, algorithm='brute', weights='distance')\n",
    "        Support Vector Regression (C=10, epsilon=0.1, gamma=0.1)\n",
    "\n",
    "    Evaluated models on training data with metrics like MSE, MAE, RMSE, R².\n",
    "\n",
    "    Selected best hyperparameters based on validation performance.\n",
    "\n",
    "6. Model Evaluation\n",
    "\n",
    "    Assessed individual models' performance:\n",
    "        Notable results:\n",
    "            Gradient Boosting Regressor achieved an R² of approximately 0.82 on validation.\n",
    "            Random Forest and Decision Tree also performed well.\n",
    "            KNN and SVR had moderate performance.\n",
    "    Observed that models like Gradient Boosting and Random Forest had the best validation scores.\n",
    "\n",
    "7. Model Ensembling via Stacking\n",
    "\n",
    "    Created a stacking regressor combining the top-performing models:\n",
    "        Base estimators: Gradient Boosting, SVR\n",
    "        Meta-estimator: Linear Regression\n",
    "    Trained the stacking model on the training data.\n",
    "\n",
    "8. Final Performance on Test Set\n",
    "\n",
    "    Evaluated the stacking regressor on the hold-out test set.\n",
    "    Reported performance metrics:\n",
    "        MSE: 0.1582\n",
    "        MAE: 0.21\n",
    "        RMSE: 0.3978\n",
    "        R²: 0.82\n",
    "\n",
    "Conclusion:\n",
    "The stacking ensemble achieved excellent performance, explaining over 82% of the variance with low error metrics, indicating a robust and well-generalized model."
   ]
  },
  {
   "cell_type": "code",
   "execution_count": null,
   "id": "2de29d41-00d6-426c-b84e-cdfd898c6d5f",
   "metadata": {},
   "outputs": [],
   "source": []
  },
  {
   "cell_type": "code",
   "execution_count": null,
   "id": "75fd57d2-09d1-410b-af2a-79ea7af132f2",
   "metadata": {},
   "outputs": [],
   "source": []
  },
  {
   "cell_type": "code",
   "execution_count": null,
   "id": "3f41cd27-17b0-4d81-a02f-8c91714965cf",
   "metadata": {},
   "outputs": [],
   "source": []
  },
  {
   "cell_type": "code",
   "execution_count": null,
   "id": "bee5d324-cb9c-41cb-b08f-62b986cb15cc",
   "metadata": {},
   "outputs": [],
   "source": []
  },
  {
   "cell_type": "code",
   "execution_count": null,
   "id": "58a85797-dbdb-4520-ac35-ad0b1311f6c0",
   "metadata": {},
   "outputs": [],
   "source": []
  },
  {
   "cell_type": "code",
   "execution_count": null,
   "id": "d2a501df-2ad0-4780-ba33-6e59a1b2b996",
   "metadata": {},
   "outputs": [],
   "source": []
  }
 ],
 "metadata": {
  "kernelspec": {
   "display_name": "Python (myenv)",
   "language": "python",
   "name": "myenv"
  },
  "language_info": {
   "codemirror_mode": {
    "name": "ipython",
    "version": 3
   },
   "file_extension": ".py",
   "mimetype": "text/x-python",
   "name": "python",
   "nbconvert_exporter": "python",
   "pygments_lexer": "ipython3",
   "version": "3.13.3"
  }
 },
 "nbformat": 4,
 "nbformat_minor": 5
}
